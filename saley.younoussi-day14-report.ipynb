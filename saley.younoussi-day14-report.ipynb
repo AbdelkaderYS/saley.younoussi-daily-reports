{
 "cells": [
  {
   "cell_type": "code",
   "execution_count": 66,
   "id": "a5424aa0-1b36-492a-a748-14bb6d331122",
   "metadata": {},
   "outputs": [
    {
     "name": "stdout",
     "output_type": "stream",
     "text": [
      "[6, 28, 496, 8128]\n"
     ]
    }
   ],
   "source": [
    "# Perfect Numbers Calculation\n",
    "def calc_perfect_numbers(max_exclusive):\n",
    "    Perfect_Numbers = []\n",
    "    for j in range(1,max_exclusive):\n",
    "        n_divisors = [i for i in range(1,j) if j%i==0]\n",
    "        if sum(n_divisors) == j: Perfect_Numbers.append(j)\n",
    "    return Perfect_Numbers\n",
    "\n",
    "print(calc_perfect_numbers(10000))"
   ]
  },
  {
   "cell_type": "code",
   "execution_count": null,
   "id": "5ac650d5-192f-40f0-83fc-3c5d5825691a",
   "metadata": {},
   "outputs": [],
   "source": []
  },
  {
   "cell_type": "code",
   "execution_count": 34,
   "id": "d6f9b1ae-0627-4ca0-bb44-940876237a66",
   "metadata": {},
   "outputs": [
    {
     "name": "stdout",
     "output_type": "stream",
     "text": [
      "[2, 3, 5, 7, 11, 13]\n"
     ]
    }
   ],
   "source": [
    "def calc_primes_up_to(max_value):\n",
    "    prime = [True] * (max_value + 1)\n",
    "    p = 2\n",
    "    while p ** 2 <= max_value:\n",
    "        if prime[p]:\n",
    "            for i in range(p * p, max_value + 1, p):\n",
    "                prime[i] = False\n",
    "        p += 1\n",
    "    \n",
    "    return [p for p in range(2, max_value + 1) if prime[p]]\n",
    "\n",
    "print(calc_primes_up_to(15))\n"
   ]
  },
  {
   "cell_type": "code",
   "execution_count": 40,
   "id": "7658eea4-9908-4a7f-a587-2cc116f3fa92",
   "metadata": {},
   "outputs": [
    {
     "name": "stdout",
     "output_type": "stream",
     "text": [
      "10\n"
     ]
    }
   ],
   "source": [
    "def calc_sum_of_digits(value):\n",
    "    if value == 0: return 0\n",
    "    return value % 10 + calc_sum_of_digits(value // 10)\n",
    "\n",
    "print(calc_sum_of_digits(1234)) "
   ]
  },
  {
   "cell_type": "code",
   "execution_count": 48,
   "id": "2989d4a0-7a1a-43a8-984d-97f8039d2607",
   "metadata": {},
   "outputs": [
    {
     "name": "stdout",
     "output_type": "stream",
     "text": [
      "101\n",
      "111\n"
     ]
    }
   ],
   "source": [
    "def to_binary(n):\n",
    "    if n == 0: return \"0\"\n",
    "    if n == 1: return \"1\"\n",
    "    return to_binary(n // 2) + str(n % 2)\n",
    "\n",
    "print(to_binary(5))  \n",
    "print(to_binary(7))   "
   ]
  },
  {
   "cell_type": "code",
   "execution_count": null,
   "id": "75824e78-7a69-4bea-ab8f-c31a37c0829e",
   "metadata": {},
   "outputs": [],
   "source": []
  },
  {
   "cell_type": "code",
   "execution_count": 58,
   "id": "66c44af7-17ac-4ad1-b0a4-63a542eac3a1",
   "metadata": {},
   "outputs": [
    {
     "name": "stdout",
     "output_type": "stream",
     "text": [
      "hello +++ world +++ message\n"
     ]
    }
   ],
   "source": [
    "def join(values, delimiter):\n",
    "    result = values[0]\n",
    "    for value in values[1:]:\n",
    "        result += delimiter + value\n",
    "    return result\n",
    "\n",
    "print(join([\"hello\", \"world\", \"message\"], \" +++ \"))"
   ]
  },
  {
   "cell_type": "code",
   "execution_count": 62,
   "id": "d0e5904d-9fd3-4339-9197-7ba328285bd4",
   "metadata": {},
   "outputs": [
    {
     "name": "stdout",
     "output_type": "stream",
     "text": [
      "[1]\n",
      "[1, 1]\n",
      "[1, 2, 1]\n",
      "[1, 3, 3, 1]\n",
      "[1, 4, 6, 4, 1]\n"
     ]
    }
   ],
   "source": [
    "def pascal(n):\n",
    "    triangle = [[1]]\n",
    "    for i in range(1, n):\n",
    "        line = [1] + [triangle[i-1][j] + triangle[i-1][j+1] for j in range(len(triangle[i-1]) - 1)] + [1]\n",
    "        triangle.append(line)\n",
    "    return triangle\n",
    "\n",
    "for line in pascal(5):\n",
    "    print(line)"
   ]
  },
  {
   "cell_type": "code",
   "execution_count": 75,
   "id": "64962dfb-fdee-49c7-b383-1b33e2e5c781",
   "metadata": {},
   "outputs": [
    {
     "name": "stdout",
     "output_type": "stream",
     "text": [
      "True\n",
      "False\n"
     ]
    }
   ],
   "source": [
    "def contains_all(values, search_values):\n",
    "    return all(val in values for val in search_values)\n",
    "\n",
    "print(contains_all([0, 1, 2, 3, 4, 5, 6, 7, 8, 9], [7, 2]))\n",
    "print(contains_all([0, 1, 2, 3, 4, 5, 6, 7, 8, 9], [5, 11]))"
   ]
  },
  {
   "cell_type": "code",
   "execution_count": 79,
   "id": "6909fe1d-7da7-4077-a0a9-8c1e112ea9bb",
   "metadata": {},
   "outputs": [
    {
     "name": "stdout",
     "output_type": "stream",
     "text": [
      "[1, 2, 3, 4, 5, 6, 7, 8, 9]\n"
     ]
    }
   ],
   "source": [
    "def insertion_sort(values):\n",
    "    for i in range(1, len(values)):\n",
    "        k = values[i]\n",
    "        j = i - 1\n",
    "        while j >= 0 and k < values[j]:\n",
    "            values[j + 1] = values[j]\n",
    "            j -= 1\n",
    "        values[j + 1] = k\n",
    "    return values\n",
    "\n",
    "print(insertion_sort([7, 2, 5, 1, 6, 8, 9, 4, 3])) "
   ]
  }
 ],
 "metadata": {
  "kernelspec": {
   "display_name": "Python 3 (ipykernel)",
   "language": "python",
   "name": "python3"
  },
  "language_info": {
   "codemirror_mode": {
    "name": "ipython",
    "version": 3
   },
   "file_extension": ".py",
   "mimetype": "text/x-python",
   "name": "python",
   "nbconvert_exporter": "python",
   "pygments_lexer": "ipython3",
   "version": "3.11.7"
  }
 },
 "nbformat": 4,
 "nbformat_minor": 5
}
