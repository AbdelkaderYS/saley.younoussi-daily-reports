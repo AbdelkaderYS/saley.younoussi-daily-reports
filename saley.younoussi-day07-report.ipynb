{
 "cells": [
  {
   "cell_type": "markdown",
   "id": "c9745cff-83e9-49d7-9af1-5d89e47b91a2",
   "metadata": {},
   "source": [
    "#### 1. Compute expressions `sum` and `product` for a natural number n chosen by the user"
   ]
  },
  {
   "cell_type": "code",
   "execution_count": null,
   "id": "f2fc6880-bd68-4497-afe9-05008c488075",
   "metadata": {},
   "outputs": [],
   "source": [
    "#Sum computing\n",
    "\n",
    "n = int(input(\"Enter your number:\"))\n",
    "s = 0\n",
    "i = 0\n",
    "\n",
    "while i < n:\n",
    "    if i % 2 == 0:\n",
    "        s = s + i + 3\n",
    "    i += 1\n",
    "\n",
    "print(f\"Your sum is: {s}\")"
   ]
  },
  {
   "cell_type": "code",
   "execution_count": null,
   "id": "dc569df9-708c-4d1c-a43a-31d54db62bf6",
   "metadata": {},
   "outputs": [],
   "source": [
    "#Product Computing\n",
    "\n",
    "m = int(input(\"Enter your number:\"))\n",
    "\n",
    "i , k , l = 0 , 0 , 1\n",
    "for j in range(m):\n",
    "    if i % 2 == 0:\n",
    "        k = i + 3 \n",
    "        l = l * k\n",
    "    i += 1\n",
    "\n",
    "print(f\"Your product is: {l}\")"
   ]
  },
  {
   "cell_type": "markdown",
   "id": "d50f21c3-361a-4761-873c-bb11199cc937",
   "metadata": {},
   "source": [
    "#### 2. Program that reads the number of the day of the week"
   ]
  },
  {
   "cell_type": "code",
   "execution_count": null,
   "id": "e5d0ccaa-b948-4729-9671-a559381f5d09",
   "metadata": {},
   "outputs": [],
   "source": [
    "day = int(input(\"Enter your number of day (0-6):\"))\n",
    "\n",
    "match day:\n",
    "    case 0:\n",
    "        print(\"It's Sunday - Weekend\")\n",
    "    case 1:\n",
    "        print(\"It's Monday - Work day\")\n",
    "    case 2:\n",
    "        print(\"It's Tuesday - Work day\")\n",
    "    case 3:\n",
    "        print(\"It's Wednesday - Work day\")\n",
    "    case 4:\n",
    "        print(\"It's Tuersday - Work day\")\n",
    "    case 5:\n",
    "        print(\"It's Friday - Work day\")\n",
    "    case 6:\n",
    "        print(\"It's Satursday -  Weekend\")\n",
    "    case _:\n",
    "        print(\"Enter incorrect\")"
   ]
  },
  {
   "cell_type": "markdown",
   "id": "2e29f696-2697-4fda-babf-32cf5c100042",
   "metadata": {},
   "source": [
    "#### 3. Program that reads the number of the month and gives number of days"
   ]
  },
  {
   "cell_type": "code",
   "execution_count": 55,
   "id": "2b655838-4f7f-422c-844a-a439b1ebcca7",
   "metadata": {},
   "outputs": [
    {
     "name": "stdin",
     "output_type": "stream",
     "text": [
      "Enter your number of day (0-11): 56\n"
     ]
    },
    {
     "name": "stdout",
     "output_type": "stream",
     "text": [
      "Enter incorrect\n"
     ]
    }
   ],
   "source": [
    "month = int(input(\"Enter your number of day (0-11):\"))\n",
    "\n",
    "match month:\n",
    "    case 0:\n",
    "        print(\"It's January - 31 Days\")\n",
    "    case 1:\n",
    "        print(\"It's February - 28 Days\")\n",
    "    case 2:\n",
    "        print(\"It's Mars - 31 Days\")\n",
    "    case 3:\n",
    "        print(\"April - 30 Days\")\n",
    "    case 4:\n",
    "        print(\"May - 31 Days\")        \n",
    "    case 5:\n",
    "        print(\"June - 30 Days\")        \n",
    "    case 6:\n",
    "        print(\"July - 31 Days\")       \n",
    "    case 7:\n",
    "        print(\"August - 31 Days\")\n",
    "    case 8:\n",
    "        print(\"Septempber - 30 Days\")\n",
    "    case 9:\n",
    "        print(\"October - 31 Days\")    \n",
    "    case 10:\n",
    "        print(\"November - 30 Days\")    \n",
    "    case 11:\n",
    "        print(\"December - 31 Days\")\n",
    "    case _:\n",
    "        print(\"Enter incorrect\")"
   ]
  },
  {
   "cell_type": "markdown",
   "id": "b3e8547a-6526-4a48-b604-91bd0eeb2584",
   "metadata": {},
   "source": [
    "#### 4. Program that print 3 times name"
   ]
  },
  {
   "cell_type": "code",
   "execution_count": 65,
   "id": "bd6d77fa-5d60-41d3-9feb-42ecb117b4aa",
   "metadata": {},
   "outputs": [
    {
     "name": "stdout",
     "output_type": "stream",
     "text": [
      "kader\n",
      "kader\n",
      "kader\n"
     ]
    }
   ],
   "source": [
    "#While loop\n",
    "i=0\n",
    "while i<3:\n",
    "    print(\"kader\")\n",
    "    i+=1"
   ]
  },
  {
   "cell_type": "code",
   "execution_count": 67,
   "id": "7ccd7dac-ddaa-4aaf-9986-050e6f2bb0ba",
   "metadata": {},
   "outputs": [
    {
     "name": "stdout",
     "output_type": "stream",
     "text": [
      "kader\n",
      "kader\n",
      "kader\n"
     ]
    }
   ],
   "source": [
    "#For loop\n",
    "for i in range(3):\n",
    "    print(\"kader\")"
   ]
  },
  {
   "cell_type": "markdown",
   "id": "47ac58f8-7375-4e3b-9e15-84545b86f1fd",
   "metadata": {},
   "source": [
    "#### 5.  Fibonacci generating sequence "
   ]
  },
  {
   "cell_type": "code",
   "execution_count": 77,
   "id": "39067d7b-2d67-4ea8-8edb-e93aecc98280",
   "metadata": {},
   "outputs": [
    {
     "name": "stdin",
     "output_type": "stream",
     "text": [
      "Enter your initial values a0 1\n",
      "Enter your initial values a1 1\n"
     ]
    },
    {
     "name": "stdout",
     "output_type": "stream",
     "text": [
      "the first 15 terms of a Fibonacci sequence is : 32768\n"
     ]
    }
   ],
   "source": [
    "a0 = int(input(\"Enter your initial values a0\"))\n",
    "a1 = int(input(\"Enter your initial values a1\"))\n",
    "\n",
    "for i in range(15):\n",
    "    an = a1 + a0\n",
    "    a1 = an\n",
    "    a0 = a1\n",
    "\n",
    "print(f\"the first 15 terms of a Fibonacci sequence is : {an}\")"
   ]
  },
  {
   "cell_type": "markdown",
   "id": "d8ce7fd5-b307-498b-9d49-760f1349aed2",
   "metadata": {},
   "source": [
    "#### 6.  The first 30 terms of a sequence"
   ]
  },
  {
   "cell_type": "code",
   "execution_count": 3,
   "id": "581a973a-b000-487b-8e9b-5b6bac1db706",
   "metadata": {},
   "outputs": [
    {
     "name": "stdin",
     "output_type": "stream",
     "text": [
      "Enter your initial values x0 1\n",
      "Enter your initial values x1 2\n"
     ]
    },
    {
     "name": "stdout",
     "output_type": "stream",
     "text": [
      "the first 30 terms a sequence is : 2.399016734818503e+16\n"
     ]
    }
   ],
   "source": [
    "x1 = int(input(\"Enter your initial values x0\"))\n",
    "x2 = int(input(\"Enter your initial values x1\"))\n",
    "\n",
    "for i in range(30):\n",
    "    xn = (6*x1 + x2)/2\n",
    "    x2 = xn\n",
    "    x1 = x2\n",
    "\n",
    "print(f\"the first 30 terms a sequence is : {xn}\")"
   ]
  },
  {
   "cell_type": "markdown",
   "id": "38361500-0101-438c-a6e6-0da6041c30fb",
   "metadata": {},
   "source": [
    "#### 7. Leap Year"
   ]
  },
  {
   "cell_type": "code",
   "execution_count": 89,
   "id": "d0fe9ab8-dda2-4230-899f-c5f68cf274b0",
   "metadata": {},
   "outputs": [
    {
     "name": "stdin",
     "output_type": "stream",
     "text": [
      "Enter year : 4587\n"
     ]
    },
    {
     "name": "stdout",
     "output_type": "stream",
     "text": [
      "It's not a leap year\n"
     ]
    }
   ],
   "source": [
    "an = int(input(\"Enter year :\"))\n",
    "\n",
    "if ((an % 4)==0 and (an % 100)!=0) or (an % 400) == 0:\n",
    "    print(\"It's a leap year\")\n",
    "else :  print(\"It's not a leap year\")"
   ]
  },
  {
   "cell_type": "code",
   "execution_count": 18,
   "id": "97d39159-ad55-4ace-af74-7896f78278ea",
   "metadata": {},
   "outputs": [
    {
     "name": "stdin",
     "output_type": "stream",
     "text": [
      "Enter a year:  5558\n"
     ]
    },
    {
     "name": "stdout",
     "output_type": "stream",
     "text": [
      "5558 is a leap year: False\n"
     ]
    }
   ],
   "source": [
    "#Writing the code using only logical operators, i.e. no conditional branching.\n",
    "an = int(input(\"Enter a year: \"))\n",
    "leap = (an % 4 == 0 and an % 100 != 0) or (an % 400 == 0)\n",
    "print(f\"{an} is a leap year: {leap}\")"
   ]
  },
  {
   "cell_type": "markdown",
   "id": "e7a0a446-8eb7-4878-818e-ea4f8f44f3e8",
   "metadata": {},
   "source": [
    "#### 8. Compute the sum of the square of the first n natural numbers"
   ]
  },
  {
   "cell_type": "code",
   "execution_count": 26,
   "id": "4c69d269-0c03-41bd-acbb-4dfeca9ee6cd",
   "metadata": {},
   "outputs": [
    {
     "name": "stdin",
     "output_type": "stream",
     "text": [
      "Enter number : 5\n"
     ]
    },
    {
     "name": "stdout",
     "output_type": "stream",
     "text": [
      "The square of the first N natural numbers is: 30\n"
     ]
    }
   ],
   "source": [
    "#While loop\n",
    "N = int(input(\"Enter number :\"))\n",
    "i , j = 0 , 0\n",
    "sq = 0\n",
    "while i<N:\n",
    "    j = i*i\n",
    "    sq = sq + j\n",
    "    i = i+1\n",
    "\n",
    "print(f\"The square of the first N natural numbers is: {sq}\")"
   ]
  },
  {
   "cell_type": "code",
   "execution_count": 28,
   "id": "097a5867-77b5-4064-a4f1-02be6cb225a2",
   "metadata": {},
   "outputs": [
    {
     "name": "stdin",
     "output_type": "stream",
     "text": [
      "Enter number : 5\n"
     ]
    },
    {
     "name": "stdout",
     "output_type": "stream",
     "text": [
      "The square of the first N natural numbers is: 30\n"
     ]
    }
   ],
   "source": [
    "#For loop\n",
    "N = int(input(\"Enter number :\"))\n",
    "sq = 0\n",
    "for i in range(N):\n",
    "    sq = sq + i*i\n",
    "\n",
    "print(f\"The square of the first N natural numbers is: {sq}\")"
   ]
  },
  {
   "cell_type": "markdown",
   "id": "ef3c0086-e719-4578-9862-fd2d0d6a7328",
   "metadata": {},
   "source": [
    "#### The smallest natural number n such that the sum of squares from 1^2 to n^2 is greater than or equal to M"
   ]
  },
  {
   "cell_type": "code",
   "execution_count": 38,
   "id": "1123fd4f-c064-4845-835a-70fa671ec3b7",
   "metadata": {},
   "outputs": [
    {
     "name": "stdin",
     "output_type": "stream",
     "text": [
      "Enter a natural number M:  5\n"
     ]
    },
    {
     "name": "stdout",
     "output_type": "stream",
     "text": [
      "The smallest natural number n is: 2\n"
     ]
    }
   ],
   "source": [
    "#For loop\n",
    "M = int(input(\"Enter a natural number M: \"))\n",
    "sq = 0\n",
    "for n in range(1, M+1):\n",
    "    sq += n**2\n",
    "    if sq >= M:\n",
    "        print(f\"The smallest natural number n is: {n}\")\n",
    "        break"
   ]
  },
  {
   "cell_type": "code",
   "execution_count": 40,
   "id": "00ffe223-6402-498b-9388-a7bc406926df",
   "metadata": {},
   "outputs": [
    {
     "name": "stdin",
     "output_type": "stream",
     "text": [
      "Enter a natural number M:  5\n"
     ]
    },
    {
     "name": "stdout",
     "output_type": "stream",
     "text": [
      "The smallest natural number n is: 2\n"
     ]
    }
   ],
   "source": [
    "#While loop\n",
    "M = int(input(\"Enter a natural number M: \"))\n",
    "sq = 0\n",
    "n = 1\n",
    "while sq < M:\n",
    "    sq += n ** 2\n",
    "    if sq >= M:\n",
    "        print(f\"The smallest natural number n is: {n}\")\n",
    "        break\n",
    "    n += 1\n"
   ]
  },
  {
   "cell_type": "markdown",
   "id": "9206f78b-98d4-4abe-8068-02ed5b99b752",
   "metadata": {},
   "source": [
    "#### 9. Is prime"
   ]
  },
  {
   "cell_type": "code",
   "execution_count": null,
   "id": "f6b76699-b612-4ba3-9ea4-2fe82317476d",
   "metadata": {},
   "outputs": [],
   "source": [
    "def vp(n):\n",
    "    divisors = []\n",
    "    #n = 10\n",
    "    for i in range(1,n+1):\n",
    "        if (n % i) == 0: \n",
    "            divisors.append(i)\n",
    "    \n",
    "    print(f\"All the divisors of {n} is {divisors}\")\n",
    "    return divisors"
   ]
  },
  {
   "cell_type": "code",
   "execution_count": 157,
   "id": "14601d21-8f91-484b-bebc-4af78939b553",
   "metadata": {},
   "outputs": [
    {
     "name": "stdin",
     "output_type": "stream",
     "text": [
      "Give your number : 4\n"
     ]
    },
    {
     "name": "stdout",
     "output_type": "stream",
     "text": [
      "All the divisors of 4 is [1, 2, 4]\n",
      "4 it's not a prime number because it has as divisors : [1, 2, 5]\n"
     ]
    }
   ],
   "source": [
    "num = int(input(\"Give your number :\"))\n",
    "if len(vp(num))== 2 : print(f\"{num} it's a prime number\")\n",
    "else : print(f\"{num} it's not a prime number because it has as divisors : {divisors}\")"
   ]
  },
  {
   "cell_type": "markdown",
   "id": "3d126e2b-0a22-4fd3-af43-73af465a6543",
   "metadata": {},
   "source": [
    "#### 10. Multiplication table"
   ]
  },
  {
   "cell_type": "code",
   "execution_count": 173,
   "id": "2a1e5c56-89da-48f9-81a1-0362fcfc7fb0",
   "metadata": {},
   "outputs": [
    {
     "name": "stdin",
     "output_type": "stream",
     "text": [
      "Give your number (0-9): 9\n"
     ]
    },
    {
     "name": "stdout",
     "output_type": "stream",
     "text": [
      "9 x 1 = 9\n",
      "9 x 2 = 18\n",
      "9 x 3 = 27\n",
      "9 x 4 = 36\n",
      "9 x 5 = 45\n",
      "9 x 6 = 54\n",
      "9 x 7 = 63\n",
      "9 x 8 = 72\n",
      "9 x 9 = 81\n",
      "9 x 10 = 90\n",
      "9 x 11 = 99\n",
      "9 x 12 = 108\n"
     ]
    }
   ],
   "source": [
    "nb = int(input(\"Give your number (0-9):\"))\n",
    "N = 12\n",
    "for i in range(1,N+1):\n",
    "    print(f\"{nb} x {i} = {i*nb}\")"
   ]
  },
  {
   "cell_type": "markdown",
   "id": "cdd9ed14-d86d-4c8a-a305-08214c059753",
   "metadata": {},
   "source": [
    "#### 11. Program that prints all the numbers between 0 and 40 that are multiples of 3, 7 or 11."
   ]
  },
  {
   "cell_type": "code",
   "execution_count": 46,
   "id": "1e3b9a82-5da0-48a9-83f3-26f5e14643c8",
   "metadata": {},
   "outputs": [
    {
     "name": "stdout",
     "output_type": "stream",
     "text": [
      "[0, 3, 6, 7, 9, 11, 12, 14, 15, 18, 21, 22, 24, 27, 28, 30, 33, 35, 36, 39]\n"
     ]
    }
   ],
   "source": [
    "az = []\n",
    "for i in range(41):\n",
    "    if ((i % 3)==0 or (i%7)==0 or (i%11)==0):\n",
    "        az.append(i)    \n",
    "print(az)"
   ]
  },
  {
   "cell_type": "markdown",
   "id": "8701f914-1778-43d3-ae88-753b753c7921",
   "metadata": {},
   "source": [
    "#### 12. Prints the floor of a float x"
   ]
  },
  {
   "cell_type": "code",
   "execution_count": 51,
   "id": "fa1673d2-5580-4118-b734-54b0ee0ce625",
   "metadata": {},
   "outputs": [
    {
     "name": "stdin",
     "output_type": "stream",
     "text": [
      "Enter a float number:  5\n"
     ]
    },
    {
     "name": "stdout",
     "output_type": "stream",
     "text": [
      "The floor of 5.0 is: 5\n"
     ]
    }
   ],
   "source": [
    "x = float(input(\"Enter a float number: \"))\n",
    "n = int(x)\n",
    "if x < n:  \n",
    "    n = n - 1  \n",
    "print(f\"The floor of {x} is: {n}\")"
   ]
  },
  {
   "cell_type": "markdown",
   "id": "2c2d9841-9901-4fd9-8357-177189a10332",
   "metadata": {},
   "source": [
    "#### 13. Determine the position of a point"
   ]
  },
  {
   "cell_type": "code",
   "execution_count": null,
   "id": "b427a1ff-113a-4f07-b272-9fefebc587bc",
   "metadata": {},
   "outputs": [],
   "source": [
    "while True:\n",
    "    x = float(input(\"Enter x coordinate (or type 'q' to quit): \"))\n",
    "    if x == \"q\":\n",
    "        break\n",
    "        \n",
    "    y = float(input(\"Enter y coordiné: \"))\n",
    "    \n",
    "    if x == 0 and y == 0:\n",
    "        print(\"The point is at the origin.\")\n",
    "    elif x == 0:\n",
    "        print(\"The point is on the y-axis.\")\n",
    "    elif y == 0:\n",
    "        print(\"The point is on the x-axis.\")\n",
    "    elif x > 0 and y > 0:\n",
    "        print(\"The point is in the 1st quadrant.\")\n",
    "    elif x < 0 and y > 0:\n",
    "        print(\"The point is in the 2nd quadrant.\")\n",
    "    elif x < 0 and y < 0:\n",
    "        print(\"The point is in the 3rd quadrant.\")\n",
    "    elif x > 0 and y < 0:\n",
    "        print(\"The point is in the 4th quadrant.\")\n",
    "    \n",
    "    cont = input(\"Would you like to check another point? (yes/no): \").lower()\n",
    "    if cont != \"yes\":\n",
    "        break"
   ]
  },
  {
   "cell_type": "markdown",
   "id": "1d34320e-cc5b-4a6d-9a02-a2c67e922a5f",
   "metadata": {},
   "source": [
    "#### 14. Conditions imbriquées"
   ]
  },
  {
   "cell_type": "code",
   "execution_count": 232,
   "id": "43035f6a-bc12-48ca-979f-83ce9ebf7c6d",
   "metadata": {},
   "outputs": [
    {
     "name": "stdin",
     "output_type": "stream",
     "text": [
      "Enter number between 0 and 9 5\n",
      "Enter max number between 0 and 255 50\n"
     ]
    },
    {
     "name": "stdout",
     "output_type": "stream",
     "text": [
      "0\n",
      "5\n",
      "10\n",
      "15\n",
      "20\n",
      "25\n",
      "30\n",
      "35\n",
      "40\n",
      "45\n"
     ]
    }
   ],
   "source": [
    "x = int(input(\"Enter number between 0 and 9\"))\n",
    "if x>=0 and x<=9 :\n",
    "    max = int(input(\"Enter max number between 0 and 255\"))\n",
    "    if max>= 0 and max <= 255 :\n",
    "        for i in range(max):\n",
    "            if i%x == 0: print(i)"
   ]
  }
 ],
 "metadata": {
  "kernelspec": {
   "display_name": "Python 3 (ipykernel)",
   "language": "python",
   "name": "python3"
  },
  "language_info": {
   "codemirror_mode": {
    "name": "ipython",
    "version": 3
   },
   "file_extension": ".py",
   "mimetype": "text/x-python",
   "name": "python",
   "nbconvert_exporter": "python",
   "pygments_lexer": "ipython3",
   "version": "3.11.7"
  }
 },
 "nbformat": 4,
 "nbformat_minor": 5
}
