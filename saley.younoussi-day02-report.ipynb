{
 "cells": [
  {
   "cell_type": "markdown",
   "id": "d68c1dee",
   "metadata": {},
   "source": [
    "# Practical_2: String and files"
   ]
  },
  {
   "cell_type": "markdown",
   "id": "2b1db4ed-6eaa-4e0c-bed9-51259ffa36ab",
   "metadata": {},
   "source": [
    "---\n",
    "\n",
    "### Exercise 1:\n",
    "Create a string variable `text` and assign it the value `\"Python is amazing!\"`.\n",
    "\n",
    "```python\n",
    "text = \"Python is amazing!\"\n",
    "```"
   ]
  },
  {
   "cell_type": "markdown",
   "id": "51350854-cbbc-4f5d-9716-15c0c0942e14",
   "metadata": {},
   "source": [
    "---\n",
    "\n",
    "### Exercise 2:\n",
    "Find the length of the string `\"Hello, World!\"` and store it in a variable `length`.\n",
    "\n",
    "```python\n",
    "length = len(\"hello, World!\")\n",
    "```\n",
    "\n",
    "---"
   ]
  },
  {
   "cell_type": "markdown",
   "id": "2b3f9de1-2c60-47f0-a993-5152903d3c23",
   "metadata": {},
   "source": [
    "### Exercise 3:\n",
    "Convert the string `\"python programming\"` to uppercase and store it in a variable `upper_text`.\n",
    "\n",
    "```python\n",
    "t1 = \"python programming\"\n",
    "upper_text = t1.upper()\n",
    "```\n",
    "\n",
    "---"
   ]
  },
  {
   "cell_type": "markdown",
   "id": "e43011e8-27b8-46d8-945b-c8262985ab99",
   "metadata": {},
   "source": [
    "### Exercise 4:\n",
    "Extract the first 5 characters from the string `\"Artificial Intelligence\"`.\n",
    "\n",
    "```python\n",
    "t2 = \"Artificial Intelligence\"\n",
    "t2[:5]\n",
    "```\n",
    "\n",
    "---"
   ]
  },
  {
   "cell_type": "markdown",
   "id": "52792a5f-383d-497c-aa1e-dacf9f11290f",
   "metadata": {},
   "source": [
    "### Exercise 5:\n",
    "Concatenate the strings `\"Hello\"` and `\"World\"` with a space in between.\n",
    "\n",
    "```python\n",
    "t3 = \"Hello\" + \" \" + \"World\"\n",
    "```\n",
    "\n",
    "---"
   ]
  },
  {
   "cell_type": "markdown",
   "id": "b4527677-4c0e-436b-bb21-57a58c37289a",
   "metadata": {},
   "source": [
    "### Exercise 6:\n",
    "Replace the word `\"dog\"` with `\"cat\"` in the string `\"The quick brown dog jumps over the lazy dog.\"`.\n",
    "\n",
    "```python\n",
    "t4 = \"The quick brown dog jumps over the lazy dog.\"\n",
    "t4.replace(\"dot\",\"cat\")\n",
    "```\n",
    "---"
   ]
  },
  {
   "cell_type": "markdown",
   "id": "868e2483-6c0b-4a43-89ae-bc790bb95863",
   "metadata": {},
   "source": [
    "### Exercise 7:\n",
    "Split the string `\"apple,banana,orange\"` by commas and store the result in a list `fruits_list`.\n",
    "\n",
    "```python\n",
    "t5 = \"apple,banana,orange\"\n",
    "t5.split(\",\")\n",
    "```\n",
    "---"
   ]
  },
  {
   "cell_type": "markdown",
   "id": "3156fca0-1984-4287-b68a-c45779adddb9",
   "metadata": {},
   "source": [
    "### Exercise 8:\n",
    "Use string formatting to create the sentence `\"My name is Alice and I am 25 years old.\"`, where the name and age are variables.\n",
    "\n",
    "```python\n",
    "print(\"My name is {name} and i am {age} years old\".format(name=\"Alice\", age=25)) \n",
    "```\n",
    "\n",
    "---"
   ]
  },
  {
   "cell_type": "markdown",
   "id": "6dbae1f1-c36d-40fc-813f-2a32990f848e",
   "metadata": {},
   "source": [
    "### Exercise 9:\n",
    "Check if the string `\"python\"` is present in the sentence `\"I love python programming\"`.\n",
    "\n",
    "```python\n",
    "sentence = \"I love python programming\"\n",
    "sentence.find(\"python\") # Return 7 index starting the word in sentence, else return -1\n",
    "```\n",
    "\n",
    "---"
   ]
  },
  {
   "cell_type": "markdown",
   "id": "a0c4c0e9-1760-42bf-a323-0a75c6c8014d",
   "metadata": {},
   "source": [
    "### Exercise 10:\n",
    "Count the number of occurrences of the letter `\"e\"` in the string `\"Elephant is an elegant animal\"`.\n",
    "\n",
    "```python\n",
    "t6 = \"Elephant is an elegant animal\"\n",
    "t6.count(\"e\")\n",
    "\n",
    "```\n",
    "\n",
    "---"
   ]
  },
  {
   "cell_type": "markdown",
   "id": "19f8f4cc-4c71-4fc6-8e53-baaf518fa5be",
   "metadata": {},
   "source": [
    "### Exercise 11:\n",
    "Remove any leading and trailing spaces from the string `\"   Data Science   \"`.\n",
    "\n",
    "```python\n",
    "t7 = \"   Data Science   \"\n",
    "t7.strip()\n",
    "```\n",
    "---"
   ]
  },
  {
   "cell_type": "markdown",
   "id": "f8fd506f-bf76-4224-af37-5cd0a08ab7d4",
   "metadata": {},
   "source": [
    "### Exercise 12:\n",
    "Convert the string `\"100\"` into an integer and store it in a variable `int_value`.\n",
    "\n",
    "```python\n",
    "a = \"100\"\n",
    "int_value = int(a)\n",
    "```\n",
    "\n",
    "---"
   ]
  },
  {
   "cell_type": "markdown",
   "id": "b5ee64f1-768f-4580-8f4e-a24353c75984",
   "metadata": {},
   "source": [
    "### Exercise 13:\n",
    "Extract the substring `\"pro\"` from the string `\"programming\"`.\n",
    "\n",
    "```python\n",
    "s = \"programming\"\n",
    "substring = s[:3] \n",
    "```\n",
    "\n",
    "---"
   ]
  },
  {
   "cell_type": "markdown",
   "id": "ea0cf23a-bcbf-4e7c-b572-80ffc5f7d4cf",
   "metadata": {},
   "source": [
    "### Exercise 14:\n",
    "Check if the string `\"data\"` starts with `\"da\"` and ends with `\"ta\"`.\n",
    "\n",
    "```python\n",
    "c = \"data\"\n",
    "print(c.startswith(\"da\") and c.endswith(\"ta\"))\n",
    "```\n",
    "---"
   ]
  },
  {
   "cell_type": "markdown",
   "id": "2af2c614-d099-43e6-be3b-b27120cd8984",
   "metadata": {},
   "source": [
    "### Exercise 15:\n",
    "Reverse the string `\"machine learning\"` and store the result in `reversed_text`.\n",
    "\n",
    "```python\n",
    "z = \"machine learning\"\n",
    "reversed_text = z[::-1]\n",
    "```\n",
    "---"
   ]
  },
  {
   "cell_type": "markdown",
   "id": "4312287d-89ef-4892-95f3-979ec47d808e",
   "metadata": {},
   "source": [
    "### Exercise 16:\n",
    "Convert the first letter of each word in the string `\"machine learning is fun\"` to uppercase.\n",
    "\n",
    "```python\n",
    "\n",
    "r = \"machine learning is fun\"\n",
    "\n",
    "mots = r.split()\n",
    "\n",
    "Mots = [i.capitalize() for i in mots]\n",
    "\n",
    "\" \".join(Mots)\n",
    "\n",
    "```\n",
    "---"
   ]
  },
  {
   "cell_type": "markdown",
   "id": "177d2f3e-bda1-465b-887d-897bb6fa82a5",
   "metadata": {},
   "source": [
    "### Exercise 17:\n",
    "Create a multiline string representing a poem and store it in a variable `poem`.\n",
    "\n",
    "```python\n",
    "poem = \"\"\"Femme noir de Léopold Sédar Senghor :\n",
    "Nue, femme nue,\n",
    "Noire femme,\n",
    "Vêtue de ta couleur qui est vie, de ta forme qui est beauté !\n",
    "J'ai grandi à ton ombre; la douceur de tes mains bandait mes yeux.\n",
    "Et voilà qu'au cœur de l'Été et de Midi, je te découvre, Terre promise, du haut d'un haut col calciné\n",
    "Et ta beauté me foudroie en plein cœur, comme l'éclair d'un aigle.\"\"\"\n",
    "```\n",
    "\n",
    "---"
   ]
  },
  {
   "cell_type": "markdown",
   "id": "85a205f9-c4a2-4e25-8dca-ed88526e37f4",
   "metadata": {},
   "source": [
    "### Exercise 18:\n",
    "Write a string to a file named `\"output.txt\"`.\n",
    "\n",
    "```python\n",
    "text = \"My name is kader\"\n",
    "file = open(\"output.txt\", \"w\")\n",
    "file.write(text)\n",
    "file.close()\n",
    "```\n",
    "---"
   ]
  },
  {
   "cell_type": "markdown",
   "id": "3b975f48-6ffd-4941-964a-dd73f2a1251d",
   "metadata": {},
   "source": [
    "### Exercise 19:\n",
    "Read the contents of a file named `\"data.txt\"` and print it line by line.\n",
    "\n",
    "```python\n",
    "file = open(\"data.txt\", \"r\")\n",
    "print(file.read())\n",
    "file.close()\n",
    "\n",
    "file = open(\"data.txt\", \"r\")\n",
    "line = file.readline()\n",
    "while line:\n",
    "    print(line, end='')\n",
    "    line = file.readline()\n",
    "file.close()\n",
    "```\n",
    "---"
   ]
  },
  {
   "cell_type": "markdown",
   "id": "424acee2-846f-40ef-a583-1e9560f65b62",
   "metadata": {},
   "source": [
    "### Exercise 20:\n",
    "Check if a file `\"example.txt\"` exists before opening it.\n",
    "\n",
    "```python\n",
    "import os\n",
    "\n",
    "if os.path.exists(\"example.txt\"):\n",
    "    file = open(\"example.txt\")\n",
    "    content = file.read()\n",
    "    print(content)\n",
    "    file.close()\n",
    "else:\n",
    "    print(\"file doesn't exist\")\n",
    "```"
   ]
  },
  {
   "cell_type": "markdown",
   "id": "75a3b6db-dde2-42ec-bcc1-3e129eb32996",
   "metadata": {},
   "source": [
    "---\n",
    "\n",
    "### Exercise 21:\n",
    "Append a new line `\"This is a new line\"` to an existing file `\"notes.txt\"`.\n",
    "\n",
    "```python\n",
    "file = open(\"notes.txt\",\"a\")\n",
    "file.write(\"This is a new line.\\n\")\n",
    "file.close()\n",
    "\n",
    "```\n",
    "\n",
    "---"
   ]
  },
  {
   "cell_type": "markdown",
   "id": "3eab13a4-9d56-416f-a05b-3aa7d8765fa5",
   "metadata": {},
   "source": [
    "### Exercise 22:\n",
    "Read the contents of a file `\"log.txt\"` and store each line in a list `log_lines`.\n",
    "\n",
    "```python\n",
    "with open(\"log.txt\", \"r\") as file:\n",
    "    log_lines = file.readlines()\n",
    "```\n",
    "\n",
    "---"
   ]
  },
  {
   "cell_type": "markdown",
   "id": "17e96a53-e335-457f-88f3-42ad74255411",
   "metadata": {},
   "source": [
    "### Exercise 23:\n",
    "Create a new file `\"report.txt\"` and write the string `\"Data analysis report\"` to it.\n",
    "\n",
    "```python\n",
    "with open(\"report.txt\",\"w+\") as file:\n",
    "    print(file.write(\"Data analysis report\"))\n",
    "```\n",
    "\n",
    "---"
   ]
  },
  {
   "cell_type": "markdown",
   "id": "e248a5e7-507e-4079-8ae8-a556483d20b9",
   "metadata": {},
   "source": [
    "### Exercise 24:\n",
    "Replace the word `\"error\"` with `\"issue\"` in a file `\"log.txt\"`.\n",
    "\n",
    "```python\n",
    "with open(\"log.txt\",\"r\") as file:\n",
    "    cont = file.read()\n",
    "R_cont = cont.replace(\"error\",\"issue\")\n",
    "\n",
    "with open(\"log.txt\",\"w\") as file:\n",
    "     file.write(\"R_cont\")\n",
    "```\n",
    "\n",
    "---"
   ]
  },
  {
   "cell_type": "markdown",
   "id": "3875fa8d-a48b-42d6-b246-b7cdd0638b7f",
   "metadata": {},
   "source": [
    "### Exercise 25:\n",
    "Count the number of words in a text file `\"document.txt\"`.\n",
    "\n",
    "```python\n",
    "with open(\"document.txt\", \"r\") as file:\n",
    "    cont = file.read()\n",
    "    \n",
    "print(len(cont.split()))\n",
    "```\n",
    "\n",
    "---"
   ]
  },
  {
   "cell_type": "markdown",
   "id": "80b42681-98db-4e84-b22f-e0581de3d688",
   "metadata": {},
   "source": [
    "### Exercise 26:\n",
    "Write a Python script that reads a file `\"essay.txt\"` and prints the total number of lines, words, and characters.\n",
    "\n",
    "```python\n",
    "with open(\"essay.txt\", \"r\") as file:\n",
    "    l = file.readlines()\n",
    "    cont = \"\".join(lines)  \n",
    "    nb_line = len(lines)      \n",
    "    nb_word = len(cont.split())  \n",
    "    nb_char = len(cont)       \n",
    "\n",
    "print(f\"Total lines: {nb_line}\")\n",
    "print(f\"Total words: {nb_word}\")\n",
    "print(f\"Total characters: {nb_char}\")\n",
    "```\n",
    "\n",
    "---"
   ]
  },
  {
   "cell_type": "markdown",
   "id": "60170c9b-3c3e-4bfc-8c49-408cd96d1716",
   "metadata": {},
   "source": [
    "### Exercise 27:\n",
    "Copy the contents of one file `\"source.txt\"` to another file `\"destination.txt\"`.\n",
    "\n",
    "```python\n",
    "with open(\"source.txt\", \"r\") as sfile:\n",
    "    with open(\"destination.txt\", \"w\") as dfile:\n",
    "        cont = sfile.read()\n",
    "        dfile.write(cont)\n",
    "```\n",
    "\n",
    "---"
   ]
  },
  {
   "cell_type": "markdown",
   "id": "7ab1b3b4-efec-45ab-bdc2-d58f74bd0e53",
   "metadata": {},
   "source": [
    "### Exercise 28:\n",
    "Write a Python function that takes a filename as input and returns the number of lines in the file.\n",
    "\n",
    "```python\n",
    "def count_lines(filename):\n",
    "    with open(filename, \"r\") as file:\n",
    "        count_lines = sum(1 for i in file)\n",
    "    return count_lines\n",
    "\n",
    "# Example usage\n",
    "filename = \"example.txt\"\n",
    "lines = count_lines(filename)\n",
    "print(f\"The number of lines in '{filename}' is: {lines}\")\n",
    "\n",
    "```\n",
    "\n",
    "---"
   ]
  },
  {
   "cell_type": "markdown",
   "id": "7cf05b55-4de7-432e-9ef1-fd5e0125b080",
   "metadata": {},
   "source": [
    "### Exercise 29:\n",
    "Extract all the words from a text file `\"article.txt\"` that contain more than 5 characters.\n",
    "\n",
    "```python\n",
    "with open(\"article.txt\", \"r\") as file:\n",
    "    words = []\n",
    "    for l in file:\n",
    "        mot = l.split()\n",
    "        words.extend([word for word in mot if len(word) > 5])\n",
    "print(f\"More than 5 characters: {words}\")\n",
    "```\n",
    "\n",
    "---"
   ]
  },
  {
   "cell_type": "markdown",
   "id": "9a92fd62-ea2c-40b2-ade8-dc924d192750",
   "metadata": {},
   "source": [
    "### Exercise 30:\n",
    "Convert the contents of a file `\"notes.txt\"` to uppercase and save the result in another file `\"uppercase_notes.txt\"`.\n",
    "\n",
    "```python\n",
    "with open(\"notes.txt\", \"r\") as sfile:\n",
    "    cont = sfile.read()\n",
    "\n",
    "#Convert\n",
    "uppercase_content = cont.upper()\n",
    "\n",
    "with open(\"uppercase_notes.txt\", \"w\") as dfile:\n",
    "    defile.write(uppercase_content)\n",
    "```\n",
    "\n",
    "---"
   ]
  },
  {
   "cell_type": "markdown",
   "id": "b5dcf00d-10c0-4ed2-ad0f-8a159fad026e",
   "metadata": {},
   "source": [
    "### Exercise 31:\n",
    "Write a Python script that reads a file and removes all empty lines.\n",
    "\n",
    "```python\n",
    "with open(\"data1.txt\", \"r\") as file:\n",
    "    line = file.readlines()\n",
    "\n",
    "empty_line = [l for l in line if l.strip()]\n",
    "\n",
    "with open(\"data2.txt\", \"w\") as file:\n",
    "    file.writelines(empty_line)\n",
    "```\n",
    "\n",
    "---"
   ]
  },
  {
   "cell_type": "markdown",
   "id": "839795a1-aa8e-4bd2-aae3-53c743d410da",
   "metadata": {},
   "source": [
    "### Exercise 32:\n",
    "Open a file `\"config.txt\"` in both read and write mode.\n",
    "\n",
    "```python\n",
    "with open(\"config.txt\", \"r+\") as file:\n",
    "    cont1 = file.read()\n",
    "    print(cont1)\n",
    "    \n",
    "    file.seek(0) \n",
    "\n",
    "    cont2 = file.write(\"sukfgbh\")\n",
    "```\n",
    "\n",
    "---"
   ]
  },
  {
   "cell_type": "markdown",
   "id": "8931c834-7c84-460f-aa6b-0372657e6783",
   "metadata": {},
   "source": [
    "### Exercise 33:\n",
    "Write a Python function that reads a file and prints the longest line in the file.\n",
    "\n",
    "```python\n",
    "def print_longest_line(file):\n",
    "    with open(\"example.txt\", \"r\") as file:\n",
    "        l_line = \"\"\n",
    "        for line in file:\n",
    "            if len(line) > len(l_line):\n",
    "                l_line = line.strip()\n",
    "        print(f\"The longest line is: {l_line}\")\n",
    "\n",
    "# Example usage\n",
    "print_longest_line(\"example.txt\")\n",
    "\n",
    "```\n",
    "\n",
    "---"
   ]
  },
  {
   "cell_type": "markdown",
   "id": "3c385a81-41ab-44e3-b407-dd495561d8b2",
   "metadata": {},
   "source": [
    "### Exercise 34:\n",
    "Write a Python script to count the frequency of each letter in a text file `\"message.txt\"`.\n",
    "\n",
    "```python\n",
    "def count_freq(file):\n",
    "    freq = {}\n",
    "    with open(\"message.txt\", \"r\") as file:\n",
    "        for line in file:\n",
    "            for char in line:\n",
    "                if char.isalpha():\n",
    "                    char = char.lower()\n",
    "                    freq[char] = freq.get(char, 0) + 1\n",
    "\n",
    "    for l in sorted(freq):\n",
    "        print(f\"{l}: {freq[l]}\")\n",
    "\n",
    "# Example usage\n",
    "count_freq(\"message.txt\")\n",
    "```\n",
    "\n",
    "---"
   ]
  },
  {
   "cell_type": "markdown",
   "id": "62ff8844-b270-4b79-a9cf-6a120f2c3200",
   "metadata": {},
   "source": [
    "### Exercise 35:\n",
    "Write a Python script that reads a file and prints the total number of characters, excluding spaces.\n",
    "\n",
    "```python\n",
    "def count_chars_no_spaces(file):\n",
    "    total = 0\n",
    "    with open(\"data.txt\", \"r\") as file:\n",
    "        for line in file:\n",
    "            total += len(line.replace(\" \", \"\"))\n",
    "\n",
    "    print(f\"Characters total with no space: {total}\")\n",
    "\n",
    "# Example usage\n",
    "count_chars_no_spaces(\"message.txt\")\n",
    "```\n",
    "\n",
    "---"
   ]
  },
  {
   "cell_type": "markdown",
   "id": "2465f45e-d9b5-4f16-a950-483245608b23",
   "metadata": {},
   "source": [
    "### Exercise 36:\n",
    "Create a Python script to check whether a file is empty or not.\n",
    "\n",
    "```python\n",
    "def empty_file(file):\n",
    "    with open(\"data.txt\", \"r\") as file:\n",
    "        \n",
    "        if file.readable() and file.read() == \"\":\n",
    "            print(f\"The file data is empty.\")\n",
    "        else:\n",
    "            print(f\"The file data is not empty.\")\n",
    "```\n",
    "\n",
    "---"
   ]
  },
  {
   "cell_type": "markdown",
   "id": "8748c1ca-6a69-431b-9854-9fdcd28f1480",
   "metadata": {},
   "source": [
    "### Exercise 37:\n",
    "Write a Python function that reads a file and removes all punctuation marks from the text.\n",
    "\n",
    "```python\n",
    "import string\n",
    "def rm_punct(file):\n",
    "    with open(\"data.txt\", \"r\") as f:\n",
    "        text = f.read()\n",
    "        \n",
    "        print(text.translate(str.maketrans(\"\", \"\", string.punctuation)))\n",
    "```\n",
    "\n",
    "---"
   ]
  },
  {
   "cell_type": "markdown",
   "id": "15bdd983-76a4-44d4-92d5-484738f6dfd4",
   "metadata": {},
   "source": [
    "### Exercise 38:\n",
    "Create a Python function that writes a list of strings to a file, each string on a new line.\n",
    "\n",
    "```python\n",
    "def writing(file, strlist):\n",
    "    with open(\"data.txt\", \"w\") as f:\n",
    "        for s in strlist:\n",
    "            f.write(string + \"\\n\")\n",
    "```\n",
    "\n",
    "---"
   ]
  },
  {
   "cell_type": "markdown",
   "id": "4e07628a-685f-4b3d-b917-3cdff9389e5e",
   "metadata": {},
   "source": [
    "### Exercise 39:\n",
    "Write a Python script to count the number of lines that start with a specific letter (e.g., \"A\") in a text file.\n",
    "\n",
    "```python\n",
    "letter = \"A\"\n",
    "count = 0\n",
    "\n",
    "with open(\"data.txt\", \"r\") as f:\n",
    "    for line in f:\n",
    "        if line.startswith(letter):\n",
    "            count += 1\n",
    "\n",
    "print(f\"Number of lines that starting with A: {count}\")\n",
    "\n",
    "```\n",
    "\n",
    "---"
   ]
  },
  {
   "cell_type": "markdown",
   "id": "229470d5-159b-4367-8791-3acfef3721c1",
   "metadata": {},
   "source": [
    "### Exercise 40:\n",
    "Write a Python function that takes a string as input and writes it to a file `\"output.txt\"` in reverse order.\n",
    "\n",
    "```python\n",
    "def reverse(a):\n",
    "    revers = a[::-1]\n",
    "\n",
    "    with open(\"output.txt\", \"w\") as f:\n",
    "        f.write(revers)\n",
    "```\n",
    "\n",
    "---"
   ]
  },
  {
   "cell_type": "markdown",
   "id": "63ed340a-6c9d-43be-bee0-b23c47579896",
   "metadata": {},
   "source": [
    "### Exercise 41:\n",
    "Write a Python script that reads a file and prints all the lines that contain the word `\"Python\"`.\n",
    "\n",
    "```python\n",
    "with open(\"data.txt\", \"r\") as f:\n",
    "    for line in f:\n",
    "        if \"Python\" in line:\n",
    "            print(line.strip())\n",
    "```\n",
    "\n",
    "---"
   ]
  },
  {
   "cell_type": "markdown",
   "id": "89c3f116-0de6-4c4d-b389-43f69f183883",
   "metadata": {},
   "source": [
    "### Exercise 42:\n",
    "Write a Python script that opens a file and removes all numeric digits from the file's content.\n",
    "\n",
    "```python\n",
    "with open(\"data.txt\", \"r\") as f:\n",
    "    cont = f.read()\n",
    "\n",
    "no_digit = ''.join(char for char in cont if not char.isdigit())\n",
    "\n",
    "with open(\"data.txt\", \"w\") as f:\n",
    "    f.write(no_digits)\n",
    "```\n",
    "\n",
    "---"
   ]
  },
  {
   "cell_type": "markdown",
   "id": "df4c3387-bdf4-4b76-9ea9-71e030d081d2",
   "metadata": {},
   "source": [
    "### Exercise 43:\n",
    "Write a Python script to find the most frequent word in a text file `\"book.txt\"`.\n",
    "\n",
    "```python\n",
    "# Not yet\n",
    "```\n",
    "\n",
    "---"
   ]
  },
  {
   "cell_type": "markdown",
   "id": "f01a550d-015c-4e28-a5a5-392ec8209c7a",
   "metadata": {},
   "source": [
    "### Exercise 44:\n",
    "Write a Python script that reads a file and prints all the lines that contain exactly 5 words.\n",
    "\n",
    "```python\n",
    "# Not Yet\n",
    "```\n",
    "\n",
    "---"
   ]
  },
  {
   "cell_type": "markdown",
   "id": "354bf64d-67b2-4613-83cb-f3d6722d00ad",
   "metadata": {},
   "source": [
    "### Exercise 45:\n",
    "Write a Python script to read a file and print the first and last line of the file.\n",
    "\n",
    "```python\n",
    "# Not yey\n",
    "```\n",
    "\n",
    "---"
   ]
  },
  {
   "cell_type": "markdown",
   "id": "4224466d-2664-4675-a90f-44a5f8b8332c",
   "metadata": {},
   "source": [
    "### Exercise 46:\n",
    "Write a Python script that checks if a file `\"students.txt\"` is writable.\n",
    "\n",
    "```python\n",
    "with open(\"data.txt\", \"r\") as f:\n",
    "    for line in f:\n",
    "        if len(line.split()) == 5: \n",
    "            print(line.strip())  \n",
    "```\n",
    "\n",
    "---"
   ]
  },
  {
   "cell_type": "markdown",
   "id": "f87f7868-767c-4ebc-895c-b2adcaa4be30",
   "metadata": {},
   "source": [
    "### Exercise 47:\n",
    "Create a Python function that opens a file and returns the number of unique words in the file.\n",
    "\n",
    "```python\n",
    "# Not yet\n",
    "```"
   ]
  },
  {
   "cell_type": "markdown",
   "id": "94687fb6-c8e8-4f6f-80f8-8d7de7f344a4",
   "metadata": {},
   "source": [
    "---\n",
    "\n",
    "### Exercise 48:\n",
    "Write a Python script that reads a file and prints all lines in reverse order.\n",
    "\n",
    "```python\n",
    "\n",
    "with open(\"data.txt\", \"r\") as f:\n",
    "    line = f.readlines()\n",
    "\n",
    "for l in reversed(line):\n",
    "    print(l.strip()) \n",
    "```\n",
    "\n",
    "---"
   ]
  },
  {
   "cell_type": "markdown",
   "id": "00a4d84f-f07f-4fa3-841f-c1260dcfed5a",
   "metadata": {},
   "source": [
    "### Exercise 49:\n",
    "Write a Python function that reads a file and returns the most common letter in the text.\n",
    "\n",
    "```python\n",
    "# Note yet\n",
    "```\n",
    "\n",
    "---"
   ]
  },
  {
   "cell_type": "markdown",
   "id": "98ec569a-37e7-410a-b38c-4e7b80167a6c",
   "metadata": {},
   "source": [
    "### Exercise 50:\n",
    "Write a Python script that reads a file and replaces every occurrence of `\"Python\"` with `\"Java\"`.\n",
    "\n",
    "```python\n",
    "# not yet\n",
    "```\n",
    "\n",
    "---"
   ]
  },
  {
   "cell_type": "code",
   "execution_count": null,
   "id": "dcf6ca38",
   "metadata": {},
   "outputs": [],
   "source": []
  }
 ],
 "metadata": {
  "kernelspec": {
   "display_name": "Python 3 (ipykernel)",
   "language": "python",
   "name": "python3"
  },
  "language_info": {
   "codemirror_mode": {
    "name": "ipython",
    "version": 3
   },
   "file_extension": ".py",
   "mimetype": "text/x-python",
   "name": "python",
   "nbconvert_exporter": "python",
   "pygments_lexer": "ipython3",
   "version": "3.11.7"
  }
 },
 "nbformat": 4,
 "nbformat_minor": 5
}
