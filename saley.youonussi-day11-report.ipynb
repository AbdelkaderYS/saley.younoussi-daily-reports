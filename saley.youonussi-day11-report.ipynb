{
 "cells": [
  {
   "cell_type": "markdown",
   "id": "44055716-5ee9-434b-bf2c-95ef97b5e5b8",
   "metadata": {},
   "source": [
    "#### Question 1"
   ]
  },
  {
   "cell_type": "code",
   "execution_count": 4,
   "id": "9497d977-188d-48c6-9527-894a550f9565",
   "metadata": {},
   "outputs": [
    {
     "name": "stdout",
     "output_type": "stream",
     "text": [
      "[2002, 2009, 2016, 2023, 2037, 2044, 2051, 2058, 2072, 2079, 2086, 2093, 2107, 2114, 2121, 2128, 2142, 2149, 2156, 2163, 2177, 2184, 2191, 2198, 2212, 2219, 2226, 2233, 2247, 2254, 2261, 2268, 2282, 2289, 2296, 2303, 2317, 2324, 2331, 2338, 2352, 2359, 2366, 2373, 2387, 2394, 2401, 2408, 2422, 2429, 2436, 2443, 2457, 2464, 2471, 2478, 2492, 2499, 2506, 2513, 2527, 2534, 2541, 2548, 2562, 2569, 2576, 2583, 2597, 2604, 2611, 2618, 2632, 2639, 2646, 2653, 2667, 2674, 2681, 2688, 2702, 2709, 2716, 2723, 2737, 2744, 2751, 2758, 2772, 2779, 2786, 2793, 2807, 2814, 2821, 2828, 2842, 2849, 2856, 2863, 2877, 2884, 2891, 2898, 2912, 2919, 2926, 2933, 2947, 2954, 2961, 2968, 2982, 2989, 2996, 3003, 3017, 3024, 3031, 3038, 3052, 3059, 3066, 3073, 3087, 3094, 3101, 3108, 3122, 3129, 3136, 3143, 3157, 3164, 3171, 3178, 3192, 3199]\n"
     ]
    }
   ],
   "source": [
    "L = list()\n",
    "for i in range(2000, 3201):\n",
    "    if (i % 7 == 0) and (i % 5 != 0):\n",
    "        L.append(i)\n",
    "print(L)"
   ]
  },
  {
   "cell_type": "markdown",
   "id": "6d676825-2b73-42fd-bda2-595197270769",
   "metadata": {},
   "source": [
    "#### Question 2"
   ]
  },
  {
   "cell_type": "code",
   "execution_count": 250,
   "id": "bc9adce7-3d2a-4f7e-b97a-591e70229c4c",
   "metadata": {},
   "outputs": [
    {
     "data": {
      "text/plain": [
       "40320"
      ]
     },
     "execution_count": 250,
     "metadata": {},
     "output_type": "execute_result"
    }
   ],
   "source": [
    "fact = lambda n : 1 if n==0 else n*fact(n-1)\n",
    "fact(8)"
   ]
  },
  {
   "cell_type": "markdown",
   "id": "6903d479-8a0f-4cc3-bb03-4a8c0bdf9951",
   "metadata": {},
   "source": [
    "#### Question 3"
   ]
  },
  {
   "cell_type": "code",
   "execution_count": 65,
   "id": "aa04b62a-120a-4713-bfbe-508ea8c7e03a",
   "metadata": {},
   "outputs": [
    {
     "name": "stdin",
     "output_type": "stream",
     "text": [
      "Enter a number:  5\n"
     ]
    },
    {
     "name": "stdout",
     "output_type": "stream",
     "text": [
      "{1: 1, 2: 4, 3: 9, 4: 16, 5: 25}\n"
     ]
    }
   ],
   "source": [
    "n = int(input(\"Enter a number: \"))\n",
    "print({i : i**2 for i in range(1,n+1)})\n",
    "\n",
    "#Why {\"i\": i*i for i in range(1, n+1)} doesn't work !!!!\n",
    "#print(result)"
   ]
  },
  {
   "cell_type": "markdown",
   "id": "12bf8cc6-1b1b-493e-82aa-3245c68b5cc9",
   "metadata": {},
   "source": [
    "#### Question 4"
   ]
  },
  {
   "cell_type": "code",
   "execution_count": 252,
   "id": "e4ed2639-5075-488e-a60e-6169353b2999",
   "metadata": {},
   "outputs": [
    {
     "name": "stdin",
     "output_type": "stream",
     "text": [
      "Enter list of number 5,8,6,9,8\n"
     ]
    },
    {
     "name": "stdout",
     "output_type": "stream",
     "text": [
      "['5', '8', '6', '9', '8']\n",
      "('5', '8', '6', '9', '8')\n"
     ]
    }
   ],
   "source": [
    "nb = input(\"Enter list of number\")\n",
    "print(nb.split(\",\"))\n",
    "print(tuple(nb.split(\",\")))"
   ]
  },
  {
   "cell_type": "markdown",
   "id": "13f85950-5be3-47d7-b8df-9c05dba0afcd",
   "metadata": {},
   "source": [
    "#### Question 5"
   ]
  },
  {
   "cell_type": "code",
   "execution_count": 116,
   "id": "99190cec-327a-4abf-9b28-10f1119508be",
   "metadata": {},
   "outputs": [
    {
     "name": "stdin",
     "output_type": "stream",
     "text": [
      "Enter a string:  \n"
     ]
    },
    {
     "name": "stdout",
     "output_type": "stream",
     "text": [
      "\n"
     ]
    }
   ],
   "source": []
  },
  {
   "cell_type": "markdown",
   "id": "c6d81545-fbfd-4f1c-9ede-9f27f1020233",
   "metadata": {},
   "source": [
    "#### Question 6 : $$Q = \\sqrt{\\frac{2 \\times C \\times D}{H}} $$"
   ]
  },
  {
   "cell_type": "code",
   "execution_count": 256,
   "id": "79eafd4d-5c94-40b3-a272-da61c5d2e75d",
   "metadata": {},
   "outputs": [
    {
     "name": "stdin",
     "output_type": "stream",
     "text": [
      "Enter D value  8,8,8,8,8,9,7\n"
     ]
    },
    {
     "name": "stdout",
     "output_type": "stream",
     "text": [
      "[5, 5, 5, 5, 5, 5, 4]\n"
     ]
    }
   ],
   "source": [
    "from math import *\n",
    "C, H = 50, 30\n",
    "D = input(\"Enter D value \").split(\",\")\n",
    "Q = [int(sqrt(2 * C * int(d) / H)) for d in D]\n",
    "print(Q)"
   ]
  },
  {
   "cell_type": "markdown",
   "id": "0b6e170e-9c80-4204-a5e7-736e761384c1",
   "metadata": {},
   "source": [
    "#### Question 7"
   ]
  },
  {
   "cell_type": "code",
   "execution_count": 262,
   "id": "157002af-79ee-4293-b321-d1c46cfed960",
   "metadata": {},
   "outputs": [
    {
     "name": "stdin",
     "output_type": "stream",
     "text": [
      "Enter X : 3\n",
      "Enter Y : 5\n"
     ]
    },
    {
     "name": "stdout",
     "output_type": "stream",
     "text": [
      "[[0, 0, 0, 0, 0], [0, 1, 2, 3, 4], [0, 2, 4, 6, 8]]\n"
     ]
    }
   ],
   "source": [
    "X = int(input(\"Enter X :\"))\n",
    "Y = int(input(\"Enter Y :\"))\n",
    "\n",
    "L = [[0] * Y for _ in range(X)]\n",
    "\n",
    "for i in range(X):\n",
    "    for j in range(Y):\n",
    "        L[i][j] = i * j\n",
    "\n",
    "print(L)"
   ]
  },
  {
   "cell_type": "markdown",
   "id": "57083958-a6c4-4bae-8a61-44774cf321c2",
   "metadata": {},
   "source": [
    "#### Question 8"
   ]
  },
  {
   "cell_type": "code",
   "execution_count": 198,
   "id": "ae5a732b-9214-4385-b473-d9777f26f697",
   "metadata": {},
   "outputs": [
    {
     "name": "stdin",
     "output_type": "stream",
     "text": [
      "Enter words separated by comma:  dhf,teoij,zoihe,xrj,aj\n"
     ]
    },
    {
     "name": "stdout",
     "output_type": "stream",
     "text": [
      "aj,dhf,teoij,xrj,zoihe\n"
     ]
    }
   ],
   "source": [
    "words = input(\"Enter words separated by comma: \").split(\",\")\n",
    "words.sort()\n",
    "print(\",\".join(words))"
   ]
  },
  {
   "cell_type": "markdown",
   "id": "0deb66ec-7933-4fb2-a7b3-c8a789726ca6",
   "metadata": {},
   "source": [
    "#### Question 9"
   ]
  },
  {
   "cell_type": "code",
   "execution_count": 290,
   "id": "660bb0ae-1bf3-4755-924a-8f1b0bd4b990",
   "metadata": {},
   "outputs": [
    {
     "name": "stdin",
     "output_type": "stream",
     "text": [
      " oeiqljrg\n",
      " zergj\n",
      " zeljgr\n",
      " \n"
     ]
    },
    {
     "name": "stdout",
     "output_type": "stream",
     "text": [
      "OEIQLJRG\n",
      "ZERGJ\n",
      "ZELJGR\n"
     ]
    }
   ],
   "source": [
    "line = list()\n",
    "\n",
    "while True:\n",
    "    read = input() \n",
    "    if read : line.append(read.upper()) #if read: if read is'nt empty\n",
    "    else : break\n",
    "\n",
    "for l in line : print(l)"
   ]
  },
  {
   "cell_type": "markdown",
   "id": "96cb03fc-7a06-4590-99c5-1d36ef761aee",
   "metadata": {},
   "source": [
    "#### Question 10"
   ]
  },
  {
   "cell_type": "code",
   "execution_count": 246,
   "id": "2100ff41-7fae-44ad-99c7-19547fca8d67",
   "metadata": {},
   "outputs": [
    {
     "name": "stdin",
     "output_type": "stream",
     "text": [
      "Enter a sequence of words:  sohgi zoihg zhgoz zoihgozi aoihetahgo aoihetahgo aoihetahgo\n"
     ]
    },
    {
     "name": "stdout",
     "output_type": "stream",
     "text": [
      "aoihetahgo sohgi zhgoz zoihg zoihgozi\n"
     ]
    }
   ],
   "source": [
    "words = input(\"Enter a sequence of words: \").split()\n",
    "swords = sorted(set(words))\n",
    "print(\" \".join(swords))"
   ]
  },
  {
   "cell_type": "markdown",
   "id": "d6180c29-d72d-4aa5-a57a-5292398c3ee6",
   "metadata": {},
   "source": [
    "#### Question 11"
   ]
  },
  {
   "cell_type": "code",
   "execution_count": null,
   "id": "b9a948f3-6c7e-465b-9b66-e0fbe5c5eb3a",
   "metadata": {},
   "outputs": [],
   "source": []
  },
  {
   "cell_type": "markdown",
   "id": "382c0a9a-1fae-4033-8ddf-1aac0358a4c6",
   "metadata": {},
   "source": [
    "#### Question 12"
   ]
  },
  {
   "cell_type": "code",
   "execution_count": null,
   "id": "81cb7c94-4db1-4caa-b0ac-7b8b06297578",
   "metadata": {},
   "outputs": [],
   "source": []
  },
  {
   "cell_type": "markdown",
   "id": "dc5dcaab-0d14-4d1e-91ab-58ec43fa290b",
   "metadata": {},
   "source": [
    "#### Question 13"
   ]
  },
  {
   "cell_type": "code",
   "execution_count": 296,
   "id": "22bd0e3c-f4b9-4a35-8cee-9cdc126e3d5b",
   "metadata": {},
   "outputs": [
    {
     "name": "stdin",
     "output_type": "stream",
     "text": [
      "Enter a phrase:  ABAJH k10jjA87H\n"
     ]
    },
    {
     "name": "stdout",
     "output_type": "stream",
     "text": [
      "LETTERS 10\n",
      "DIGITS 4\n"
     ]
    }
   ],
   "source": [
    "text = input(\"Enter a phrase: \")\n",
    "letter = sum(i.isalpha() for i in text)\n",
    "digit = sum(j.isdigit() for j in text)\n",
    "print(f\"LETTERS {letter}\")\n",
    "print(f\"DIGITS {digit}\")"
   ]
  },
  {
   "cell_type": "markdown",
   "id": "02e4697c-3150-4e9d-89c3-64c025946f06",
   "metadata": {},
   "source": [
    "#### Question 14"
   ]
  },
  {
   "cell_type": "code",
   "execution_count": 301,
   "id": "3b479d76-96b5-4858-aa1f-4c697af099cc",
   "metadata": {},
   "outputs": [
    {
     "name": "stdin",
     "output_type": "stream",
     "text": [
      "Enter text:  AjknjAjnezf Ajknef\n"
     ]
    },
    {
     "name": "stdout",
     "output_type": "stream",
     "text": [
      "UPPER CASE 3\n",
      "LOWER CASE 14\n"
     ]
    }
   ],
   "source": [
    "text = input(\"Enter text: \")\n",
    "uc = sum(k.isupper() for k in text)\n",
    "lc = sum(l.islower() for l in text)\n",
    "print(f\"UPPER CASE {uc}\")\n",
    "print(f\"LOWER CASE {lc}\")"
   ]
  },
  {
   "cell_type": "markdown",
   "id": "7ada8cb8-c5c5-437e-b9e7-31c2ea10de40",
   "metadata": {},
   "source": [
    "#### Question 15"
   ]
  },
  {
   "cell_type": "code",
   "execution_count": 306,
   "id": "97385294-109d-46cf-8c86-c2c204973635",
   "metadata": {},
   "outputs": [
    {
     "name": "stdin",
     "output_type": "stream",
     "text": [
      "Enter a digit:  9\n"
     ]
    },
    {
     "name": "stdout",
     "output_type": "stream",
     "text": [
      "11106\n"
     ]
    }
   ],
   "source": [
    "a = input(\"Enter a digit: \")\n",
    "print(int(a) + int(a*2) + int(a*3) + int(a*4))"
   ]
  },
  {
   "cell_type": "markdown",
   "id": "9ed0f846-1a2d-40e1-ba26-3b76f2fc4602",
   "metadata": {},
   "source": [
    "#### Question 16"
   ]
  },
  {
   "cell_type": "code",
   "execution_count": 313,
   "id": "bd58bc1e-dce7-4e9e-974d-87e3c2ec6d2e",
   "metadata": {},
   "outputs": [
    {
     "name": "stdin",
     "output_type": "stream",
     "text": [
      "Enter number separate by a comma :  1,2,3,4,5,6,7,8,9\n"
     ]
    },
    {
     "name": "stdout",
     "output_type": "stream",
     "text": [
      "[1, 9, 25, 49, 81]\n"
     ]
    }
   ],
   "source": [
    "liste = input(\"Enter number separate by a comma : \").split(\",\")\n",
    "print([int(x)**2 for x in liste if int(x) % 2 != 0])"
   ]
  },
  {
   "cell_type": "markdown",
   "id": "8dd28166-f44c-4cef-a057-fbeebc91fc11",
   "metadata": {},
   "source": [
    "#### Question 17"
   ]
  },
  {
   "cell_type": "code",
   "execution_count": null,
   "id": "6e15dc64-de5d-42af-bf31-635caab44661",
   "metadata": {},
   "outputs": [],
   "source": []
  },
  {
   "cell_type": "markdown",
   "id": "1af9af5d-5485-4f1b-885b-bbd4b15e51b9",
   "metadata": {},
   "source": [
    "#### Question 18"
   ]
  },
  {
   "cell_type": "code",
   "execution_count": 328,
   "id": "a662c101-7b3e-461f-8430-766db5e623cf",
   "metadata": {},
   "outputs": [
    {
     "name": "stdin",
     "output_type": "stream",
     "text": [
      "Enter passwords separated by a comma:  Aaaaa#777,epojrgpeozr,zpojf\n"
     ]
    },
    {
     "name": "stdout",
     "output_type": "stream",
     "text": [
      "['Aaaaa#777']\n"
     ]
    }
   ],
   "source": [
    "pwd = input(\"Enter passwords separated by a comma: \").split(\",\")\n",
    "valid_pass = []\n",
    "\n",
    "for p in pwd:\n",
    "    p = p.strip() \n",
    "    if 6 <= len(p) <= 12:\n",
    "        has_lower = has_upper = has_digit = has_special = False\n",
    "        \n",
    "        for i in p:\n",
    "            if i.islower():\n",
    "                has_lower = True\n",
    "            elif i.isupper():\n",
    "                has_upper = True\n",
    "            elif i.isdigit():\n",
    "                has_digit = True\n",
    "            elif i in \"$#@\":\n",
    "                has_special = True\n",
    "        \n",
    "        if has_lower and has_upper and has_digit and has_special:\n",
    "            valid_pass.append(p)\n",
    "\n",
    "if valid_pass: print(valid_pass)\n",
    "else: print(\"No valid passwords\")"
   ]
  },
  {
   "cell_type": "markdown",
   "id": "c21d7b5d-9c04-44b1-93aa-81bcb7d82ac1",
   "metadata": {},
   "source": [
    "#### Question 19"
   ]
  },
  {
   "cell_type": "code",
   "execution_count": null,
   "id": "c0285b4b-8fa2-4646-b642-373af95b6b2c",
   "metadata": {},
   "outputs": [],
   "source": []
  },
  {
   "cell_type": "markdown",
   "id": "074735ee-e3cc-4779-afc5-7809172ca0e5",
   "metadata": {},
   "source": [
    "#### Question 20"
   ]
  },
  {
   "cell_type": "code",
   "execution_count": null,
   "id": "d81cc448-e1f8-4d59-8562-789375c48ae3",
   "metadata": {},
   "outputs": [],
   "source": []
  },
  {
   "cell_type": "markdown",
   "id": "b5a3d52a-01f0-412b-ad74-9b2b94884478",
   "metadata": {},
   "source": [
    "#### Question 21"
   ]
  },
  {
   "cell_type": "code",
   "execution_count": null,
   "id": "5739a489-5164-4495-a1d9-62387eeb5995",
   "metadata": {},
   "outputs": [],
   "source": []
  },
  {
   "cell_type": "markdown",
   "id": "20f4f5a5-184a-4fb8-9351-112714857546",
   "metadata": {},
   "source": [
    "#### Question 22"
   ]
  },
  {
   "cell_type": "code",
   "execution_count": 342,
   "id": "1c253c10-31b9-40cd-b4d4-b7130149cebf",
   "metadata": {},
   "outputs": [
    {
     "name": "stdin",
     "output_type": "stream",
     "text": [
      "Entrez a text:  New to Python or choosing between Python 2 and Python 3? Read Python 2 or Python 3.\n"
     ]
    },
    {
     "name": "stdout",
     "output_type": "stream",
     "text": [
      "2:2\n",
      "3.:1\n",
      "3?:1\n",
      "New:1\n",
      "Python:5\n",
      "Read:1\n",
      "and:1\n",
      "between:1\n",
      "choosing:1\n",
      "or:2\n",
      "to:1\n"
     ]
    }
   ],
   "source": [
    "text = input(\"Entrez a text: \").split()\n",
    "freq = dict()\n",
    "\n",
    "for word in text:\n",
    "    freq[word] = freq.get(word, 0) + 1\n",
    "\n",
    "for word in sorted(freq.keys()):\n",
    "    print(f\"{word}:{freq[word]}\")"
   ]
  },
  {
   "cell_type": "markdown",
   "id": "06e4b877-0ced-4964-ac64-3c476ccdedfc",
   "metadata": {},
   "source": [
    "#### Question 23"
   ]
  },
  {
   "cell_type": "code",
   "execution_count": null,
   "id": "49aa699a-dac8-4f94-8f27-97e84f98981f",
   "metadata": {},
   "outputs": [],
   "source": [
    "square = lambda x = x**2"
   ]
  },
  {
   "cell_type": "markdown",
   "id": "5ad96c23-ccca-4f8d-ac11-851b46b0a4c3",
   "metadata": {},
   "source": [
    "#### Question 24"
   ]
  },
  {
   "cell_type": "code",
   "execution_count": 349,
   "id": "e58bbb54-7027-417d-9759-2f153e30cd25",
   "metadata": {},
   "outputs": [
    {
     "name": "stdout",
     "output_type": "stream",
     "text": [
      "Return the absolute value of the argument.\n",
      "int([x]) -> integer\n",
      "int(x, base=10) -> integer\n",
      "\n",
      "Convert a number or string to an integer, or return 0 if no arguments\n",
      "are given.  If x is a number, return x.__int__().  For floating point\n",
      "numbers, this truncates towards zero.\n",
      "\n",
      "If x is not a number or if base is given, then x must be a string,\n",
      "bytes, or bytearray instance representing an integer literal in the\n",
      "given base.  The literal can be preceded by '+' or '-' and be surrounded\n",
      "by whitespace.  The base defaults to 10.  Valid bases are 0 and 2-36.\n",
      "Base 0 means to interpret the base from the string as an integer literal.\n",
      ">>> int('0b100', base=0)\n",
      "4\n",
      "Forward raw_input to frontends\n",
      "\n",
      "        Raises\n",
      "        ------\n",
      "        StdinNotImplementedError if active frontend doesn't support stdin.\n",
      "        \n"
     ]
    }
   ],
   "source": [
    "print(abs.__doc__)\n",
    "print(int.__doc__)\n",
    "print(input.__doc__)"
   ]
  },
  {
   "cell_type": "markdown",
   "id": "5fb5ca59-fdf2-48a9-932c-02c199d11e7f",
   "metadata": {},
   "source": [
    "#### Question 25"
   ]
  },
  {
   "cell_type": "code",
   "execution_count": null,
   "id": "8278c215-2610-4203-863c-0d49cbc19a90",
   "metadata": {},
   "outputs": [],
   "source": []
  },
  {
   "cell_type": "code",
   "execution_count": null,
   "id": "cdf7dd7b-0f87-4b03-9a58-ccb51751207c",
   "metadata": {},
   "outputs": [],
   "source": []
  },
  {
   "cell_type": "code",
   "execution_count": null,
   "id": "810c0709-cba7-4b32-914f-dd520c1a12f1",
   "metadata": {},
   "outputs": [],
   "source": []
  },
  {
   "cell_type": "code",
   "execution_count": null,
   "id": "03006106-11df-4d38-9d93-a6e6df80edda",
   "metadata": {},
   "outputs": [],
   "source": []
  },
  {
   "cell_type": "code",
   "execution_count": null,
   "id": "a50b2e72-2dc7-44b8-9d0a-76c94c1e13c2",
   "metadata": {},
   "outputs": [],
   "source": []
  },
  {
   "cell_type": "code",
   "execution_count": null,
   "id": "c88d6bc7-0967-4c2c-b440-0bc862408866",
   "metadata": {},
   "outputs": [],
   "source": []
  }
 ],
 "metadata": {
  "kernelspec": {
   "display_name": "Python 3 (ipykernel)",
   "language": "python",
   "name": "python3"
  },
  "language_info": {
   "codemirror_mode": {
    "name": "ipython",
    "version": 3
   },
   "file_extension": ".py",
   "mimetype": "text/x-python",
   "name": "python",
   "nbconvert_exporter": "python",
   "pygments_lexer": "ipython3",
   "version": "3.11.7"
  }
 },
 "nbformat": 4,
 "nbformat_minor": 5
}
