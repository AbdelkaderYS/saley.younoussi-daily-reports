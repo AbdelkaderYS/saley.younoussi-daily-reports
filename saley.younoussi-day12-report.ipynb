{
 "cells": [
  {
   "cell_type": "code",
   "execution_count": 4,
   "id": "effe8830-2fb7-4b24-951f-6590a1c74100",
   "metadata": {},
   "outputs": [
    {
     "name": "stdout",
     "output_type": "stream",
     "text": [
      "[ 1  2  3  4  5  6  7  8  9 10]\n"
     ]
    }
   ],
   "source": [
    "# Exercise 1 : Create a NumPy array of integers from 1 to 10.\n",
    "import numpy as np\n",
    "print(np.arange(1,11))"
   ]
  },
  {
   "cell_type": "code",
   "execution_count": 72,
   "id": "162722db-ba52-4130-b5cb-ae690fbe399e",
   "metadata": {},
   "outputs": [
    {
     "name": "stdout",
     "output_type": "stream",
     "text": [
      "[[0 0 0]\n",
      " [0 0 0]\n",
      " [0 0 0]]\n",
      "[[0 0 0]\n",
      " [0 0 0]\n",
      " [0 0 0]]\n"
     ]
    }
   ],
   "source": [
    "# Exercise 2: Create a 3x3 NumPy array filled with zeros.\n",
    "A = np.zeros((3,3), dtype=int)\n",
    "print(A)\n",
    "A.dtype\n",
    "print(np.zeros((3,3), dtype=np.int16))"
   ]
  },
  {
   "cell_type": "code",
   "execution_count": 70,
   "id": "a59cc06b-0ece-4613-8b8a-d683f95e021e",
   "metadata": {},
   "outputs": [
    {
     "data": {
      "text/plain": [
       "array([0.        , 0.55555556, 1.11111111, 1.66666667, 2.22222222,\n",
       "       2.77777778, 3.33333333, 3.88888889, 4.44444444, 5.        ])"
      ]
     },
     "execution_count": 70,
     "metadata": {},
     "output_type": "execute_result"
    }
   ],
   "source": [
    "# Exercise 3: Create a NumPy array of 10 evenly spaced numbers between 0 and 5.\n",
    "np.linspace(0,5,10)"
   ]
  },
  {
   "cell_type": "code",
   "execution_count": 30,
   "id": "fc12b474-09f3-4b38-a5c1-c9f619926820",
   "metadata": {},
   "outputs": [
    {
     "name": "stdout",
     "output_type": "stream",
     "text": [
      "[[1. 0. 0. 0. 0.]\n",
      " [0. 1. 0. 0. 0.]\n",
      " [0. 0. 1. 0. 0.]\n",
      " [0. 0. 0. 1. 0.]\n",
      " [0. 0. 0. 0. 1.]]\n"
     ]
    }
   ],
   "source": [
    "# Exercise 4 : Create a 5x5 identity matrix using NumPy.\n",
    "print(np.eye(5,5)) # = np.eye(5)"
   ]
  },
  {
   "cell_type": "code",
   "execution_count": 86,
   "id": "1f970b23-6e35-43a1-a4dd-54d55ed58003",
   "metadata": {},
   "outputs": [
    {
     "name": "stdout",
     "output_type": "stream",
     "text": [
      "[[0.77132064 0.02075195 0.63364823 0.74880388]\n",
      " [0.49850701 0.22479665 0.19806286 0.76053071]\n",
      " [0.16911084 0.08833981 0.68535982 0.95339335]\n",
      " [0.00394827 0.51219226 0.81262096 0.61252607]]\n",
      "--------------------------------------------------\n",
      "[[0.72175532 0.29187607 0.91777412 0.71457578]\n",
      " [0.54254437 0.14217005 0.37334076 0.67413362]\n",
      " [0.44183317 0.43401399 0.61776698 0.51313824]\n",
      " [0.65039718 0.60103895 0.8052232  0.52164715]]\n"
     ]
    }
   ],
   "source": [
    "# Exercise 5 Create a 4x4 matrix with random values between 0 and 1.\n",
    "np.random.seed(10)\n",
    "print(np.random.random((4,4)))\n",
    "print(\"-\"*50)\n",
    "print(np.random.rand(4,4))"
   ]
  },
  {
   "cell_type": "code",
   "execution_count": 48,
   "id": "cb79c4f4-6985-4149-af3d-3af1a6a039ae",
   "metadata": {},
   "outputs": [
    {
     "name": "stdout",
     "output_type": "stream",
     "text": [
      "(4, 4)\n"
     ]
    }
   ],
   "source": [
    "# Exercise 6: Find the shape of a NumPy array.\n",
    "A = np.random.random((4,4))\n",
    "print(A.shape)"
   ]
  },
  {
   "cell_type": "code",
   "execution_count": 54,
   "id": "3609a003-f330-438b-bd5b-9b6ee662859e",
   "metadata": {},
   "outputs": [
    {
     "data": {
      "text/plain": [
       "array([[ 0,  1,  2,  3],\n",
       "       [ 4,  5,  6,  7],\n",
       "       [ 8,  9, 10, 11],\n",
       "       [12, 13, 14, 15]])"
      ]
     },
     "execution_count": 54,
     "metadata": {},
     "output_type": "execute_result"
    }
   ],
   "source": [
    "# Exercise 7 : Reshape a 1D NumPy array of 16 elements into a 4x4 matrix.\n",
    "B=np.arange(16)\n",
    "B.reshape((4,4))"
   ]
  },
  {
   "cell_type": "code",
   "execution_count": 527,
   "id": "129269ae-d0dd-4f2b-b0a2-2d4b41edc3bf",
   "metadata": {},
   "outputs": [
    {
     "name": "stdout",
     "output_type": "stream",
     "text": [
      "int32\n"
     ]
    }
   ],
   "source": [
    "# Exercise 8: Find the data type of the elements in a NumPy array.\n",
    "print(A.dtype)"
   ]
  },
  {
   "cell_type": "code",
   "execution_count": 112,
   "id": "a6a20850-1f32-40c8-93c3-a7c2585f240e",
   "metadata": {},
   "outputs": [
    {
     "name": "stdout",
     "output_type": "stream",
     "text": [
      "<generator object <genexpr> at 0x00000210525C57D0>\n"
     ]
    }
   ],
   "source": [
    "# Exercise 9: Create a NumPy array of integers from 1 to 100 and find all even numbers in the array.\n",
    "A= np.arange(1,100)\n",
    "print(x for x in np.arange(1,101) if x%2 == 0)"
   ]
  },
  {
   "cell_type": "code",
   "execution_count": 98,
   "id": "9b444f64-500c-4b06-b209-85b202c521b6",
   "metadata": {},
   "outputs": [
    {
     "name": "stdout",
     "output_type": "stream",
     "text": [
      "[[17 34 49 25 16 19]\n",
      " [10 14 24 14 16 19]\n",
      " [46 36 48 30 19 26]\n",
      " [21 49 27 49 43 21]\n",
      " [24 25 31 15 23 13]\n",
      " [41 22 33 27 39 15]]\n"
     ]
    }
   ],
   "source": [
    "# Exercise 10: Generate a 6x6 matrix of random integers between 10 and 50.\n",
    "A = np.random.randint(10,50,(6,6))\n",
    "print(A)"
   ]
  },
  {
   "cell_type": "code",
   "execution_count": 104,
   "id": "41cbb94c-720a-4ca0-b0a9-21c59cb413c3",
   "metadata": {},
   "outputs": [
    {
     "data": {
      "text/plain": [
       "array([[24, 14, 16],\n",
       "       [48, 30, 19]])"
      ]
     },
     "execution_count": 104,
     "metadata": {},
     "output_type": "execute_result"
    }
   ],
   "source": [
    "# Exercise 11: lice a 2D NumPy array to extract a submatrix.\n",
    "B = A[1:3,2:5]\n",
    "B"
   ]
  },
  {
   "cell_type": "code",
   "execution_count": 118,
   "id": "a1f2a792-06cc-49f4-9523-62a896c0c8da",
   "metadata": {},
   "outputs": [
    {
     "data": {
      "text/plain": [
       "4950"
      ]
     },
     "execution_count": 118,
     "metadata": {},
     "output_type": "execute_result"
    }
   ],
   "source": [
    "# Exercise 12: Calculate the sum of all elements in a NumPy array.\n",
    "sum(A)\n",
    "#or sum(sum(A))"
   ]
  },
  {
   "cell_type": "code",
   "execution_count": 144,
   "id": "1c0fcf24-3e08-4d9b-9f86-274923f49c63",
   "metadata": {},
   "outputs": [
    {
     "data": {
      "text/plain": [
       "28.577380332470412"
      ]
     },
     "execution_count": 144,
     "metadata": {},
     "output_type": "execute_result"
    }
   ],
   "source": [
    "# Exercise 13: Calculate the mean, median, and standard deviation of a NumPy array.\n",
    "np.mean(A)\n",
    "np.median(A)\n",
    "np.std(A)"
   ]
  },
  {
   "cell_type": "code",
   "execution_count": 150,
   "id": "0b23daba-1a85-420c-af1e-1a751a6ad155",
   "metadata": {},
   "outputs": [
    {
     "data": {
      "text/plain": [
       "99"
      ]
     },
     "execution_count": 150,
     "metadata": {},
     "output_type": "execute_result"
    }
   ],
   "source": [
    "# Exercise 14: Find the maximum and minimum values in a NumPy array.\n",
    "min(A)\n",
    "max(A)"
   ]
  },
  {
   "cell_type": "code",
   "execution_count": 280,
   "id": "d96c2788-b658-46c1-898d-d6846d9da352",
   "metadata": {},
   "outputs": [
    {
     "name": "stdout",
     "output_type": "stream",
     "text": [
      "16\n"
     ]
    }
   ],
   "source": [
    "# Exercise 15 Create a NumPy array of 20 random integers and find the index of the maximum value.\n",
    "A = np.random.randint(100, size=20)\n",
    "print(np.argmax(A))"
   ]
  },
  {
   "cell_type": "code",
   "execution_count": 290,
   "id": "43a43c66-effd-429d-879d-ae279d252647",
   "metadata": {},
   "outputs": [
    {
     "data": {
      "text/plain": [
       "array([19,  0, 20, 28, 23, 89, 58, 71, 68, 82, 22, 71, 52, 89, 25, 80, 95,\n",
       "       39, 21])"
      ]
     },
     "execution_count": 290,
     "metadata": {},
     "output_type": "execute_result"
    }
   ],
   "source": [
    "# Exercise 16 Create a NumPy array and reverse its elements.\n",
    "A[:-1]"
   ]
  },
  {
   "cell_type": "code",
   "execution_count": 411,
   "id": "34cda10b-ce03-41f3-84c1-a6ec29152686",
   "metadata": {},
   "outputs": [
    {
     "name": "stdout",
     "output_type": "stream",
     "text": [
      "[[ 9 16 21]\n",
      " [24 25 24]\n",
      " [21 16  9]]\n"
     ]
    }
   ],
   "source": [
    "# Exercise 17\n",
    "A = np.array([[1, 2, 3], \n",
    "              [4, 5, 6], \n",
    "              [7, 8, 9]])\n",
    "B = np.array([[9, 8, 7], \n",
    "              [6, 5, 4], \n",
    "              [3, 2, 1]])\n",
    "print(A * B)"
   ]
  },
  {
   "cell_type": "code",
   "execution_count": 409,
   "id": "0948ee19-aa62-426c-8d70-960580448bfb",
   "metadata": {},
   "outputs": [
    {
     "name": "stdout",
     "output_type": "stream",
     "text": [
      "[[1 0 0]\n",
      " [0 2 0]\n",
      " [0 0 3]]\n"
     ]
    }
   ],
   "source": [
    "# Exercise 18\n",
    "print(np.diag(np.array([1, 2, 3])))"
   ]
  },
  {
   "cell_type": "code",
   "execution_count": 413,
   "id": "642dc163-aaac-4b5f-8263-2e892cb006a3",
   "metadata": {},
   "outputs": [
    {
     "name": "stdout",
     "output_type": "stream",
     "text": [
      "[[4 1]\n",
      " [2 2]]\n"
     ]
    }
   ],
   "source": [
    "# Exercise 19\n",
    "C = np.array([[1, 0], [0, 1]])\n",
    "D = np.array([[4, 1], [2, 2]])\n",
    "print(np.dot(C,D))"
   ]
  },
  {
   "cell_type": "code",
   "execution_count": 525,
   "id": "995d1da0-1b5d-4fe7-9b38-7cd3d52bed87",
   "metadata": {},
   "outputs": [
    {
     "name": "stdout",
     "output_type": "stream",
     "text": [
      "[1 2 3 4 5 6]\n"
     ]
    }
   ],
   "source": [
    "# Exercise 20: Flatten a 2D array to a 1D array\n",
    "B = np.array([[1, 2, 3], [4, 5, 6]])\n",
    "print(B.flatten())"
   ]
  },
  {
   "cell_type": "code",
   "execution_count": 521,
   "id": "83813e2c-96bf-4006-b689-d9b51903e503",
   "metadata": {},
   "outputs": [
    {
     "name": "stdout",
     "output_type": "stream",
     "text": [
      "[[1 2 3]\n",
      " [4 5 6]]\n"
     ]
    }
   ],
   "source": [
    "# Exercise 21: Stack two arrays vertically\n",
    "E = np.array([1, 2, 3])\n",
    "F = np.array([4, 5, 6])\n",
    "print(np.vstack((E, F)))"
   ]
  },
  {
   "cell_type": "code",
   "execution_count": 523,
   "id": "6bf5e5ac-d4c6-46a7-ab88-444b5ab17632",
   "metadata": {},
   "outputs": [
    {
     "name": "stdout",
     "output_type": "stream",
     "text": [
      "[1 2 3 4 5 6]\n"
     ]
    }
   ],
   "source": [
    "# Exercise 22: Stack two arrays horizontally\n",
    "print(np.hstack((E, F)))"
   ]
  },
  {
   "cell_type": "code",
   "execution_count": 513,
   "id": "d7bd4e62-3509-44ce-9c79-ab61d15b18a9",
   "metadata": {},
   "outputs": [
    {
     "name": "stdout",
     "output_type": "stream",
     "text": [
      "[array([1, 2]), array([3, 4]), array([5, 6])]\n"
     ]
    }
   ],
   "source": [
    "# Exercise 23: Split an array into multiple sub-arrays\n",
    "G = np.array([1, 2, 3, 4, 5, 6])\n",
    "print(np.split(G, 3))"
   ]
  },
  {
   "cell_type": "code",
   "execution_count": 511,
   "id": "bd1264d1-d897-4bdc-8ed9-e8c3485b5260",
   "metadata": {},
   "outputs": [
    {
     "name": "stdout",
     "output_type": "stream",
     "text": [
      "[0.17 0.12 0.13 0.08 0.19]\n"
     ]
    }
   ],
   "source": [
    "# Exercise 24: Generate a random array and round to two decimal places\n",
    "G = np.random.rand(5)\n",
    "print(np.round(G, 2))"
   ]
  },
  {
   "cell_type": "code",
   "execution_count": 505,
   "id": "1ee92b1f-637c-4c42-85ba-63512b5ca9b6",
   "metadata": {},
   "outputs": [
    {
     "name": "stdout",
     "output_type": "stream",
     "text": [
      "[1 2 3 4 5]\n"
     ]
    }
   ],
   "source": [
    "# Exercise 25: Find unique elements in an array\n",
    "H = np.array([1, 2, 2, 3, 4, 4, 5])\n",
    "print(np.unique(H))"
   ]
  },
  {
   "cell_type": "code",
   "execution_count": 503,
   "id": "09825224-ddc6-4dba-9f45-7238e89d1554",
   "metadata": {},
   "outputs": [
    {
     "name": "stdout",
     "output_type": "stream",
     "text": [
      "[1 5 8 1 1 9]\n"
     ]
    }
   ],
   "source": [
    "# Exercise 26: Replace elements less than a value with that value\n",
    "I = np.array([1, 5, 8, -3, -7, 9])\n",
    "print(np.where(I < 0, 1, I))"
   ]
  },
  {
   "cell_type": "code",
   "execution_count": 499,
   "id": "e60977a3-81e6-4e7a-8dd7-485bd8232737",
   "metadata": {},
   "outputs": [
    {
     "name": "stdout",
     "output_type": "stream",
     "text": [
      "[ 1  6 14 11  4 13]\n"
     ]
    }
   ],
   "source": [
    "# Exercise 27: Cumulative sum of elements in an array\n",
    "I = np.array([1, 5, 8, -3, -7, 9])\n",
    "print(np.cumsum(I))"
   ]
  },
  {
   "cell_type": "code",
   "execution_count": 497,
   "id": "f262821c-6530-4f84-98ec-43187579653a",
   "metadata": {},
   "outputs": [
    {
     "name": "stdout",
     "output_type": "stream",
     "text": [
      "4\n"
     ]
    }
   ],
   "source": [
    "# Exercise 28: Count non-zero elements in an array\n",
    "I = np.array([1, 0, 8, -3, 0, 9])\n",
    "print(np.count_nonzero(I))"
   ]
  },
  {
   "cell_type": "code",
   "execution_count": 495,
   "id": "3584a1c9-8199-49a5-9778-69c1c76c77b1",
   "metadata": {},
   "outputs": [
    {
     "name": "stdout",
     "output_type": "stream",
     "text": [
      "[20 40 41 60 61 69 86 87 88 99]\n"
     ]
    }
   ],
   "source": [
    "# Exercise 29: Sort a random array of integers\n",
    "J = np.random.randint(1, 100, size=10)\n",
    "print(np.sort(J))"
   ]
  },
  {
   "cell_type": "code",
   "execution_count": 489,
   "id": "56004d85-d259-4302-8460-03d4f495a12d",
   "metadata": {},
   "outputs": [
    {
     "name": "stdout",
     "output_type": "stream",
     "text": [
      "[ 6 15 24] [12 15 18]\n"
     ]
    }
   ],
   "source": [
    "# Exercise 30: Row-wise and column-wise sum of a 3x3 matrix\n",
    "J = np.array([[1, 2, 3], \n",
    "              [4, 5, 6], \n",
    "              [7, 8, 9]])\n",
    "row_sum = np.sum(J, axis=1)\n",
    "col_sum = np.sum(J, axis=0)\n",
    "print(row_sum, col_sum)"
   ]
  },
  {
   "cell_type": "code",
   "execution_count": 487,
   "id": "3c941035-4eed-4a00-a21a-15d3ff61d344",
   "metadata": {},
   "outputs": [
    {
     "name": "stdout",
     "output_type": "stream",
     "text": [
      "[[0.48356224 0.20216559 0.13890692]\n",
      " [0.         0.3069255  0.8779029 ]\n",
      " [0.02216911 0.74585837 1.        ]]\n"
     ]
    }
   ],
   "source": [
    "# Exercise 31: Normalize a 2D array between 0 and 1\n",
    "K = np.random.rand(3, 3)\n",
    "normalz = (K - np.min(K)) / (np.max(K) - np.min(K))\n",
    "print(normalz)"
   ]
  },
  {
   "cell_type": "code",
   "execution_count": 483,
   "id": "554a300a-eb36-4344-8b75-aafabf1d9f62",
   "metadata": {},
   "outputs": [
    {
     "name": "stdout",
     "output_type": "stream",
     "text": [
      "32\n"
     ]
    }
   ],
   "source": [
    "# Exercise 32: Dot product of two arrays\n",
    "K = np.array([1, 2, 3])\n",
    "L = np.array([4, 5, 6])\n",
    "print(np.dot(K, L))"
   ]
  },
  {
   "cell_type": "code",
   "execution_count": 481,
   "id": "4751d105-572f-43f6-b0b0-7996ab8dc8a1",
   "metadata": {},
   "outputs": [
    {
     "name": "stdout",
     "output_type": "stream",
     "text": [
      "5\n"
     ]
    }
   ],
   "source": [
    "# Exercise 33: Find the trace of a square matrix\n",
    "M = np.array([[1, 2], [3, 4]])\n",
    "print(np.trace(M))"
   ]
  },
  {
   "cell_type": "code",
   "execution_count": 479,
   "id": "773cc428-5ebe-40b5-bc30-7ddecc41f999",
   "metadata": {},
   "outputs": [
    {
     "name": "stdout",
     "output_type": "stream",
     "text": [
      "[[3 4]\n",
      " [1 2]\n",
      " [5 6]]\n"
     ]
    }
   ],
   "source": [
    "# Exercise 34: Swap two rows in a 2D array\n",
    "N = np.array([[1, 2], [3, 4], [5, 6]])\n",
    "N[[0, 1]] = N[[1, 0]]\n",
    "print(N)"
   ]
  },
  {
   "cell_type": "code",
   "execution_count": 477,
   "id": "80f089f9-391b-4c54-8d1d-27f0a19cc3d1",
   "metadata": {},
   "outputs": [
    {
     "name": "stdout",
     "output_type": "stream",
     "text": [
      "[[1]\n",
      " [2]\n",
      " [3]]\n"
     ]
    }
   ],
   "source": [
    "# Exercise 35: Convert a 1D array into a column vector\n",
    "O = np.array([1, 2, 3])\n",
    "print(O[:, np.newaxis])"
   ]
  },
  {
   "cell_type": "code",
   "execution_count": 475,
   "id": "30d30047-36aa-4c76-a957-7e58059f9415",
   "metadata": {},
   "outputs": [
    {
     "name": "stdout",
     "output_type": "stream",
     "text": [
      "0.9999999999999987\n"
     ]
    }
   ],
   "source": [
    "# Exercise 36: Find the determinant of a 3x3 matrix\n",
    "P = np.array([[1, 2, 3], [0, 1, 4], [5, 6, 0]])\n",
    "print(np.linalg.det(P))"
   ]
  },
  {
   "cell_type": "code",
   "execution_count": 473,
   "id": "e2ad60f9-54e0-48bc-a0fc-cd4e7d6f8277",
   "metadata": {},
   "outputs": [
    {
     "name": "stdout",
     "output_type": "stream",
     "text": [
      "[ 3. -1.] \n",
      " [[ 0.70710678 -0.70710678]\n",
      " [ 0.70710678  0.70710678]]\n"
     ]
    }
   ],
   "source": [
    "# Exercise 37: Eigenvalues and eigenvectors of a 2x2 matrix\n",
    "Q = np.array([[1, 2], [2, 1]])\n",
    "eigenvalues, eigenvectors = np.linalg.eig(Q)\n",
    "print(eigenvalues,\"\\n\", eigenvectors)"
   ]
  },
  {
   "cell_type": "code",
   "execution_count": 469,
   "id": "f76cb880-c9c5-456a-b08a-25dda55ba816",
   "metadata": {},
   "outputs": [
    {
     "name": "stdout",
     "output_type": "stream",
     "text": [
      "[2. 3.]\n"
     ]
    }
   ],
   "source": [
    "# Exercise 38: Solve a system of linear equations\n",
    "X = np.array([[3, 1], \n",
    "                 [1, 2]])\n",
    "b = np.array([9, 8])\n",
    "print(np.linalg.solve(X, b))"
   ]
  },
  {
   "cell_type": "code",
   "execution_count": 569,
   "id": "b37b3ff8-e865-47fb-a61e-ff2325b3b6a8",
   "metadata": {},
   "outputs": [
    {
     "name": "stdout",
     "output_type": "stream",
     "text": [
      "[1.1478853  2.02178752 3.06230686]\n"
     ]
    }
   ],
   "source": [
    "# Exercise 39: Add Gaussian noise to an array\n",
    "R = np.array([1, 2, 3])\n",
    "noise = np.random.normal(0, 0.1, R.shape)\n",
    "print(R + noise)"
   ]
  },
  {
   "cell_type": "code",
   "execution_count": 467,
   "id": "d428f587-b3d4-46cf-8738-dea5dce1a1a9",
   "metadata": {},
   "outputs": [
    {
     "name": "stdout",
     "output_type": "stream",
     "text": [
      "[4 7 8 1]\n"
     ]
    }
   ],
   "source": [
    "# Exercise 40: Extract the diagonal elements of a 4x4 matrix\n",
    "S = np.random.randint(1, 10, size=(4, 4))\n",
    "print(np.diag(S))"
   ]
  },
  {
   "cell_type": "code",
   "execution_count": 465,
   "id": "f50f749c-35a6-4d19-ae89-b1e5a2f91280",
   "metadata": {},
   "outputs": [
    {
     "name": "stdout",
     "output_type": "stream",
     "text": [
      "[50 50 50 50 31 32 27 14 45 50 20 10 50 10 35 50 50 10 31 50 50 27 50 32\n",
      " 50 25 50 26 50 50 50 50 50 50 50 32 31 50 11 20 33 50 50 10 50 50 50 50\n",
      " 10 50 10 50 36 50 26 50 10 18 10 10 26 22 19 37 11 50 50 50 16 50 21 50\n",
      " 19 10 42 10 45 50 10 40 24 50 25 10 50 50 13 30 36 50 50 50 50 13 15 50\n",
      " 10 13 41 45]\n"
     ]
    }
   ],
   "source": [
    "# Exercise 41: Generate a random array of 100 values and clip between 10 and 50\n",
    "A = np.random.randint(1, 100, size=100)\n",
    "print(np.clip(A, 10, 50))"
   ]
  },
  {
   "cell_type": "code",
   "execution_count": 459,
   "id": "1a9134bb-17b2-4171-a266-c507fdd6c6d2",
   "metadata": {},
   "outputs": [
    {
     "name": "stdout",
     "output_type": "stream",
     "text": [
      "[[1 0 3]\n",
      " [0 5 0]]\n"
     ]
    }
   ],
   "source": [
    "# Exercise 42: Replace negative values in a 2D array with zero\n",
    "T = np.array([[1, -2, 3], [-4, 5, -6]])\n",
    "print(np.where(T < 0, 0, T))"
   ]
  },
  {
   "cell_type": "code",
   "execution_count": 457,
   "id": "597f11fe-0c48-4c77-8a8a-1b75ce1e6b63",
   "metadata": {},
   "outputs": [
    {
     "name": "stdout",
     "output_type": "stream",
     "text": [
      "32 [[ 4  5  6]\n",
      " [ 8 10 12]\n",
      " [12 15 18]]\n"
     ]
    }
   ],
   "source": [
    "# Exercise 43: Find the inner and outer products of two arrays\n",
    "U = np.array([1, 2, 3])\n",
    "V = np.array([4, 5, 6])\n",
    "inner_p = np.inner(U, V)\n",
    "outer_p = np.outer(U, V)\n",
    "print(inner_p, outer_p)"
   ]
  },
  {
   "cell_type": "code",
   "execution_count": 565,
   "id": "95367139-718a-4226-88fb-f39e06825c43",
   "metadata": {},
   "outputs": [],
   "source": [
    "# Exercise 44: Calculate pairwise distances between points in an array"
   ]
  },
  {
   "cell_type": "code",
   "execution_count": 567,
   "id": "93d83a8d-21b6-4538-a2e5-2307dab554e0",
   "metadata": {},
   "outputs": [],
   "source": [
    "# Exercise 45: Create a structured array with fields for name, age, and height"
   ]
  },
  {
   "cell_type": "code",
   "execution_count": 447,
   "id": "edacffeb-6e06-4903-83d6-209c806f3f7c",
   "metadata": {},
   "outputs": [
    {
     "name": "stdout",
     "output_type": "stream",
     "text": [
      "{2: 3, 3: 7, 4: 4, 5: 3, 6: 3, 7: 3, 8: 2}\n"
     ]
    }
   ],
   "source": [
    "# Exercise 46: Count occurrences of each unique value in a 5x5 matrix\n",
    "E = np.random.randint(0, 10, (5, 5))\n",
    "unique, counts = np.unique(E, return_counts=True)\n",
    "print(dict(zip(unique, counts)))"
   ]
  },
  {
   "cell_type": "code",
   "execution_count": 439,
   "id": "00384b41-7fed-48a9-a49b-968d5dd8d2ab",
   "metadata": {},
   "outputs": [
    {
     "name": "stdout",
     "output_type": "stream",
     "text": [
      "[[-1. -3. -5.]\n",
      " [ 2.  0. -2.]\n",
      " [ 5.  3.  1.]]\n"
     ]
    },
    {
     "data": {
      "text/plain": [
       "array([[1, 2, 3],\n",
       "       [4, 5, 6],\n",
       "       [7, 8, 9]])"
      ]
     },
     "execution_count": 439,
     "metadata": {},
     "output_type": "execute_result"
    }
   ],
   "source": [
    "# Exercise 47: Subtract the mean of each row from a 3x3 array\n",
    "#A = np.random.rand(3, 3)\n",
    "A = np.array([[1, 2, 3], [4, 5, 6], [7, 8, 9]])\n",
    "print(A - A.mean(axis=1))\n",
    "A"
   ]
  },
  {
   "cell_type": "code",
   "execution_count": 421,
   "id": "b50502eb-4589-478a-afb3-23effbbf3fc7",
   "metadata": {},
   "outputs": [
    {
     "name": "stdout",
     "output_type": "stream",
     "text": [
      "True\n"
     ]
    },
    {
     "data": {
      "text/plain": [
       "array([64, 84,  6, 65,  4, 65, 84, 26, 90, 96])"
      ]
     },
     "execution_count": 421,
     "metadata": {},
     "output_type": "execute_result"
    }
   ],
   "source": [
    "# Exercise 48: Check if any value in an array is greater than 50\n",
    "W = np.random.randint(1, 100, size=10)\n",
    "print(np.any(W > 50))"
   ]
  },
  {
   "cell_type": "code",
   "execution_count": null,
   "id": "6130380b-b97c-4f94-b3fb-1f7d1da48c5a",
   "metadata": {},
   "outputs": [],
   "source": [
    "# Exercise 49: Calculate the moving average of a 1D array"
   ]
  },
  {
   "cell_type": "code",
   "execution_count": 417,
   "id": "ee7ca4b8-69af-4dce-9bc6-bfd46035e82a",
   "metadata": {},
   "outputs": [
    {
     "name": "stdout",
     "output_type": "stream",
     "text": [
      "0.8320502943378437\n"
     ]
    }
   ],
   "source": [
    "# Exercise 50 : Pearson correlation coefficient between two arrays\n",
    "Y = np.array([1, 2, 3, 4, 5])\n",
    "Z = np.array([5, 6, 7, 8, 7])\n",
    "print(np.corrcoef(Y, Z)[0, 1])"
   ]
  },
  {
   "cell_type": "code",
   "execution_count": 559,
   "id": "c2a6403a-f354-4125-a01b-3f91ec56a23d",
   "metadata": {},
   "outputs": [],
   "source": [
    "# Exercise 51: Convert a NumPy array of radians to degrees"
   ]
  },
  {
   "cell_type": "code",
   "execution_count": 557,
   "id": "85a3515b-7011-408a-8525-7668f0f2e80f",
   "metadata": {},
   "outputs": [
    {
     "name": "stdout",
     "output_type": "stream",
     "text": [
      "0.09583943067943948 0.30957944162918744\n"
     ]
    }
   ],
   "source": [
    "# Exercise 52: Compute variance and standard deviation of a random array\n",
    "M = np.random.rand(10)\n",
    "variance = np.var(M)\n",
    "std_dev = np.std(M)\n",
    "print(variance, std_dev)"
   ]
  },
  {
   "cell_type": "code",
   "execution_count": 555,
   "id": "15996b2f-ff35-4607-9c69-7b6e28db9f14",
   "metadata": {},
   "outputs": [
    {
     "name": "stdout",
     "output_type": "stream",
     "text": [
      "[1 0 1] [1 2 0]\n"
     ]
    }
   ],
   "source": [
    "# Exercise 53: Find indices of maximum values along each axis in a 2D array\n",
    "A = np.random.rand(3, 3)\n",
    "maxr = np.argmax(A, axis=1) \n",
    "maxc = np.argmax(A, axis=0)  \n",
    "print(maxr, maxc)"
   ]
  },
  {
   "cell_type": "code",
   "execution_count": 549,
   "id": "6eb2de12-ac14-4f4a-ac70-69fa0944ffd7",
   "metadata": {},
   "outputs": [
    {
     "name": "stdout",
     "output_type": "stream",
     "text": [
      "[[ 0.6 -0.7]\n",
      " [-0.2  0.4]]\n"
     ]
    }
   ],
   "source": [
    "# Exercise 54: Compute the inverse of a 2x2 matrix\n",
    "I = np.array([[4, 7], [2, 6]])\n",
    "print(np.linalg.inv(I))"
   ]
  },
  {
   "cell_type": "code",
   "execution_count": 545,
   "id": "72e82a35-5b5b-4989-959e-accbcfd9d6f1",
   "metadata": {},
   "outputs": [
    {
     "name": "stdout",
     "output_type": "stream",
     "text": [
      "[ 0.86119585 -1.74795093 -0.44069847 -0.86128612  1.0687897   1.27746688\n",
      "  0.60699543 -0.23175513 -1.2483863   0.7156291 ]\n"
     ]
    }
   ],
   "source": [
    "# Exercise 55: Create a random array and standardize it (mean 0, variance 1)\n",
    "A = np.random.rand(10)\n",
    "standz = (A - np.mean(A)) / np.std(A)\n",
    "print(standz)"
   ]
  },
  {
   "cell_type": "code",
   "execution_count": 541,
   "id": "0b1acb08-21c2-4885-a065-4d9200096ea1",
   "metadata": {},
   "outputs": [
    {
     "name": "stdout",
     "output_type": "stream",
     "text": [
      "[5 7 9] [-3 -3 -3]\n"
     ]
    }
   ],
   "source": [
    "# Exercise 56: Element-wise addition and subtraction of two arrays\n",
    "A = np.array([1, 2, 3])\n",
    "B = np.array([4, 5, 6])\n",
    "print(A+B, A-B)"
   ]
  },
  {
   "cell_type": "code",
   "execution_count": 539,
   "id": "fe394b7a-ffaf-466c-a4ae-c2ac97898453",
   "metadata": {},
   "outputs": [
    {
     "data": {
      "text/plain": [
       "4"
      ]
     },
     "execution_count": 539,
     "metadata": {},
     "output_type": "execute_result"
    }
   ],
   "source": [
    "# Exercise 57: Find the index of the maximum element in an array\n",
    "A = np.random.randint(100,size=(3,3))\n",
    "np.argmax(A)"
   ]
  },
  {
   "cell_type": "code",
   "execution_count": 537,
   "id": "2029932c-7a5e-4a21-8e35-265fd64db9b7",
   "metadata": {},
   "outputs": [
    {
     "data": {
      "text/plain": [
       "array([[3, 6, 9],\n",
       "       [2, 5, 8],\n",
       "       [1, 4, 7]])"
      ]
     },
     "execution_count": 537,
     "metadata": {},
     "output_type": "execute_result"
    }
   ],
   "source": [
    "# Exercise 58: Rotate a 3x3 array by 90 degrees\n",
    "A = [[1,2,3],\n",
    "     [4,5,6],\n",
    "     [7,8,9]]\n",
    "np.rot90(A)"
   ]
  },
  {
   "cell_type": "code",
   "execution_count": 535,
   "id": "70d9ab32-1f42-40fd-89b4-0f85b9bd202c",
   "metadata": {},
   "outputs": [
    {
     "data": {
      "text/plain": [
       "5.477225575051661"
      ]
     },
     "execution_count": 535,
     "metadata": {},
     "output_type": "execute_result"
    }
   ],
   "source": [
    "# Exercise 59: Compute the Frobenius norm of a matrix\n",
    "B = np.array([[1, 2], [3, 4]])\n",
    "np.sqrt(np.trace(np.dot(B,B.T)))"
   ]
  },
  {
   "cell_type": "code",
   "execution_count": null,
   "id": "751d3e3b-4d16-4e5a-832f-9f77096564e6",
   "metadata": {},
   "outputs": [],
   "source": [
    "# Exercise 60: Slice out a subarray from a 3D array\n",
    "A = np.random.randint(10, size=(3,3,3))\n",
    "B = A[:1][:2][:3]\n",
    "B"
   ]
  }
 ],
 "metadata": {
  "kernelspec": {
   "display_name": "Python 3 (ipykernel)",
   "language": "python",
   "name": "python3"
  },
  "language_info": {
   "codemirror_mode": {
    "name": "ipython",
    "version": 3
   },
   "file_extension": ".py",
   "mimetype": "text/x-python",
   "name": "python",
   "nbconvert_exporter": "python",
   "pygments_lexer": "ipython3",
   "version": "3.11.7"
  }
 },
 "nbformat": 4,
 "nbformat_minor": 5
}
